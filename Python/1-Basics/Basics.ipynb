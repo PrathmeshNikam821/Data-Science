{
 "cells": [
  {
   "cell_type": "markdown",
   "metadata": {},
   "source": []
  },
  {
   "cell_type": "markdown",
   "metadata": {},
   "source": [
    "Python"
   ]
  },
  {
   "cell_type": "markdown",
   "metadata": {},
   "source": []
  },
  {
   "cell_type": "code",
   "execution_count": null,
   "metadata": {},
   "outputs": [],
   "source": [
    "#Basic syntax rules in Python \n",
    "#case sensitive \n",
    "'''\n",
    "\n",
    "\n",
    "'''"
   ]
  },
  {
   "cell_type": "code",
   "execution_count": 2,
   "metadata": {},
   "outputs": [
    {
     "name": "stdout",
     "output_type": "stream",
     "text": [
      "Pratham Nikam\n"
     ]
    }
   ],
   "source": [
    "name =\"Pratham\"\n",
    "Name=\"Nikam\"\n",
    "print(name , Name)"
   ]
  },
  {
   "cell_type": "code",
   "execution_count": 3,
   "metadata": {},
   "outputs": [
    {
     "name": "stdout",
     "output_type": "stream",
     "text": [
      "24\n"
     ]
    }
   ],
   "source": [
    "#line continuation (\\)\n",
    "\n",
    "total = 4+ 3 + 6 \\\n",
    "+6+5\n",
    "\n",
    "print(total)"
   ]
  },
  {
   "cell_type": "code",
   "execution_count": 4,
   "metadata": {},
   "outputs": [
    {
     "name": "stdout",
     "output_type": "stream",
     "text": [
      "<class 'int'>\n",
      "<class 'str'>\n"
     ]
    }
   ],
   "source": [
    "#type inference \n",
    "\n",
    "variable = 10 \n",
    "print(type(variable))\n",
    "\n",
    "variable = \"Pratham\"\n",
    "print(type(variable))"
   ]
  },
  {
   "cell_type": "markdown",
   "metadata": {},
   "source": [
    "## Variables "
   ]
  },
  {
   "cell_type": "code",
   "execution_count": null,
   "metadata": {},
   "outputs": [
    {
     "name": "stdout",
     "output_type": "stream",
     "text": [
      "Age: 21\n",
      "name: Pratham\n"
     ]
    }
   ],
   "source": [
    "#declaring the variables \n",
    "\n",
    "age = 21\n",
    "name = \"Pratham\"\n",
    "is_Student = True\n",
    "\n",
    "\n",
    "#printing the variables \n",
    "\n",
    "print(\"Age:\" ,age)\n",
    "print(\"name:\" , name)\n"
   ]
  },
  {
   "cell_type": "code",
   "execution_count": 12,
   "metadata": {},
   "outputs": [],
   "source": [
    "#anming convention \n",
    "# should be descriptive \n",
    "# start with letter or '_' (underscore ) and contains letters , numbers and underscores \n",
    "# case sensitive \n",
    "\n",
    "#valid variable names \n",
    "\n",
    "first_name = \"pratham\"\n",
    "last_name = \"Nikam\"\n",
    "\n",
    "#invalid\n",
    "# 2pr = 3 \n",
    "# top-no = \"oea\""
   ]
  },
  {
   "cell_type": "code",
   "execution_count": 14,
   "metadata": {},
   "outputs": [
    {
     "name": "stdout",
     "output_type": "stream",
     "text": [
      "25\n",
      "<class 'int'>\n"
     ]
    }
   ],
   "source": [
    "age = '25'\n",
    "print(int(age))\n",
    "print(type(int(age)))"
   ]
  },
  {
   "cell_type": "code",
   "execution_count": 15,
   "metadata": {},
   "outputs": [
    {
     "name": "stdout",
     "output_type": "stream",
     "text": [
      "20 <class 'int'>\n",
      "pratham <class 'str'>\n"
     ]
    }
   ],
   "source": [
    "#Dynamic typing \n",
    "var = 20\n",
    "print(var, type(var))\n",
    "\n",
    "var = \"pratham\"\n",
    "print(var, type(var))"
   ]
  },
  {
   "cell_type": "code",
   "execution_count": 3,
   "metadata": {},
   "outputs": [
    {
     "name": "stdout",
     "output_type": "stream",
     "text": [
      "5 <class 'str'>\n"
     ]
    }
   ],
   "source": [
    "age = input(\"Enter your age\")\n",
    "\n",
    "print(age , type(age))"
   ]
  },
  {
   "cell_type": "code",
   "execution_count": 4,
   "metadata": {},
   "outputs": [
    {
     "name": "stdout",
     "output_type": "stream",
     "text": [
      "5 <class 'int'>\n"
     ]
    }
   ],
   "source": [
    "age = int(input(\"Enter your age \"))\n",
    "\n",
    "print(age, type(age))"
   ]
  },
  {
   "cell_type": "markdown",
   "metadata": {},
   "source": [
    "## DataTypes "
   ]
  },
  {
   "cell_type": "code",
   "execution_count": 11,
   "metadata": {},
   "outputs": [
    {
     "name": "stdout",
     "output_type": "stream",
     "text": [
      "<class 'int'>\n",
      "<class 'float'>\n",
      "<class 'str'>\n",
      "False\n",
      "<class 'bool'>\n",
      "<class 'int'>\n"
     ]
    }
   ],
   "source": [
    "#integer \n",
    "\n",
    "age = 32\n",
    "print(type(age))\n",
    "\n",
    "#float\n",
    "\n",
    "width = 45.5\n",
    "print(type(width))\n",
    "\n",
    "#string\n",
    "\n",
    "string= \"Pratham\"\n",
    "print(type(string))\n",
    "\n",
    "#boolean \n",
    "print(False)\n",
    "print(type(False))\n",
    "print(type(1))"
   ]
  },
  {
   "cell_type": "code",
   "execution_count": 13,
   "metadata": {},
   "outputs": [
    {
     "name": "stdout",
     "output_type": "stream",
     "text": [
      "False\n"
     ]
    }
   ],
   "source": [
    "print(bool())"
   ]
  },
  {
   "cell_type": "code",
   "execution_count": 22,
   "metadata": {},
   "outputs": [
    {
     "name": "stdout",
     "output_type": "stream",
     "text": [
      "<class 'bool'>\n"
     ]
    }
   ],
   "source": [
    "a= 10\n",
    "b = 10 \n",
    "del str\n",
    "print(type(a==b))"
   ]
  },
  {
   "cell_type": "code",
   "execution_count": 23,
   "metadata": {},
   "outputs": [
    {
     "name": "stdout",
     "output_type": "stream",
     "text": [
      "Pratham5\n"
     ]
    }
   ],
   "source": [
    "#common error\n",
    "\n",
    "# reuslt = \"Pratham\" + 5\n",
    "\n",
    "\n",
    "result = \"Pratham\" + str(5)\n",
    "print(result)"
   ]
  },
  {
   "cell_type": "code",
   "execution_count": null,
   "metadata": {},
   "outputs": [],
   "source": []
  }
 ],
 "metadata": {
  "kernelspec": {
   "display_name": "Python 3",
   "language": "python",
   "name": "python3"
  },
  "language_info": {
   "codemirror_mode": {
    "name": "ipython",
    "version": 3
   },
   "file_extension": ".py",
   "mimetype": "text/x-python",
   "name": "python",
   "nbconvert_exporter": "python",
   "pygments_lexer": "ipython3",
   "version": "3.12.0"
  }
 },
 "nbformat": 4,
 "nbformat_minor": 2
}
