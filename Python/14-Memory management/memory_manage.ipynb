{
 "cells": [
  {
   "cell_type": "markdown",
   "id": "242dd238",
   "metadata": {},
   "source": [
    "It involves combination of automatic garbage collection , referernce counting and various internal optimizations to efficiently manage memory allocation and deallocation . "
   ]
  },
  {
   "cell_type": "code",
   "execution_count": 1,
   "id": "4c5c22e9",
   "metadata": {},
   "outputs": [],
   "source": [
    "#reference counting \n",
    "# Reference counting is the primary mechanism Python uses for memory management. Every object in Python maintains a count of the number of references pointing to it.\n",
    "\n"
   ]
  },
  {
   "cell_type": "code",
   "execution_count": 3,
   "id": "59f60c4d",
   "metadata": {},
   "outputs": [
    {
     "name": "stdout",
     "output_type": "stream",
     "text": [
      "2\n"
     ]
    }
   ],
   "source": [
    "import sys\n",
    "\n",
    "a=[]\n",
    "##2 (one refernce from 'a' and second from getrefcount function )\n",
    "print(sys.getrefcount(a))"
   ]
  },
  {
   "cell_type": "code",
   "execution_count": 9,
   "id": "3879722b",
   "metadata": {},
   "outputs": [
    {
     "name": "stdout",
     "output_type": "stream",
     "text": [
      "3\n"
     ]
    }
   ],
   "source": [
    "b = a \n",
    "print(sys.getrefcount(b))"
   ]
  },
  {
   "cell_type": "code",
   "execution_count": 10,
   "id": "fe8a7aa3",
   "metadata": {},
   "outputs": [
    {
     "name": "stdout",
     "output_type": "stream",
     "text": [
      "2\n"
     ]
    }
   ],
   "source": [
    "del b\n",
    "print(sys.getrefcount(a))\n"
   ]
  },
  {
   "cell_type": "markdown",
   "id": "2f929be7",
   "metadata": {},
   "source": [
    "#### Garbage Collection \n",
    "Garbage collection in Python is an automatic memory management process that reclaims memory occupied by objects that are no longer in use. It prevents memory leaks and optimizes program performance by ensuring that memory is efficiently utilized. "
   ]
  },
  {
   "cell_type": "code",
   "execution_count": 11,
   "id": "ec84fca1",
   "metadata": {},
   "outputs": [],
   "source": [
    "import gc\n",
    "\n",
    "#enable garbage collection \n",
    "\n",
    "gc.enable()\n",
    "\n"
   ]
  },
  {
   "cell_type": "code",
   "execution_count": 12,
   "id": "defe501b",
   "metadata": {},
   "outputs": [],
   "source": [
    "gc.disable()"
   ]
  },
  {
   "cell_type": "code",
   "execution_count": 15,
   "id": "6d952138",
   "metadata": {},
   "outputs": [
    {
     "data": {
      "text/plain": [
       "0"
      ]
     },
     "execution_count": 15,
     "metadata": {},
     "output_type": "execute_result"
    }
   ],
   "source": [
    "gc.collect()"
   ]
  },
  {
   "cell_type": "code",
   "execution_count": 16,
   "id": "36f92690",
   "metadata": {},
   "outputs": [
    {
     "name": "stdout",
     "output_type": "stream",
     "text": [
      "[{'collections': 265, 'collected': 2004, 'uncollectable': 0}, {'collections': 24, 'collected': 458, 'uncollectable': 0}, {'collections': 5, 'collected': 871, 'uncollectable': 0}]\n"
     ]
    }
   ],
   "source": [
    "#get garbage collection stats \n",
    "\n",
    "print(gc.get_stats())"
   ]
  },
  {
   "cell_type": "code",
   "execution_count": 17,
   "id": "e7e1bdf6",
   "metadata": {},
   "outputs": [
    {
     "name": "stdout",
     "output_type": "stream",
     "text": [
      "[]\n"
     ]
    }
   ],
   "source": [
    "## get unreacheable objects \n",
    "print(gc.garbage)"
   ]
  },
  {
   "cell_type": "code",
   "execution_count": null,
   "id": "f0ee0dbd",
   "metadata": {},
   "outputs": [
    {
     "name": "stdout",
     "output_type": "stream",
     "text": [
      "object obj1 created\n",
      "object obj2 created\n",
      "object obj1 deleted \n",
      "object obj2 deleted \n"
     ]
    },
    {
     "data": {
      "text/plain": [
       "9"
      ]
     },
     "execution_count": 23,
     "metadata": {},
     "output_type": "execute_result"
    }
   ],
   "source": [
    "\n",
    "#handled circular rerferences \n",
    "\n",
    "import gc \n",
    "\n",
    "class MyObject:\n",
    "  def __init__(self,name):\n",
    "    self.name=name\n",
    "    print(f\"object {self.name} created\")\n",
    "    \n",
    "  def __del__(self):\n",
    "    print(f\"object {self.name} deleted \")\n",
    "    \n",
    "\n",
    "\n",
    "#create circular reference \n",
    "\n",
    "obj1 = MyObject(\"obj1\")\n",
    "obj2 = MyObject(\"obj2\")\n",
    "\n",
    "obj1.ref = obj2\n",
    "obj2.ref = obj1\n",
    "\n",
    "\n",
    "\n",
    "del obj1\n",
    "del obj2\n",
    "\n",
    "## manually trigger the garbage collection \n",
    "\n",
    "gc.collect()\n",
    "\n"
   ]
  },
  {
   "cell_type": "code",
   "execution_count": 24,
   "id": "008c1b10",
   "metadata": {},
   "outputs": [],
   "source": [
    "#generators for memory efficiency\n",
    "\n",
    "# Generators in Python are a powerful tool for achieving memory efficiency, especially when dealing with large datasets or infinite sequences. They provide a lazy evaluation mechanism, meaning values are generated on demand rather than being stored entirely in memory."
   ]
  },
  {
   "cell_type": "code",
   "execution_count": 27,
   "id": "00cd92db",
   "metadata": {},
   "outputs": [
    {
     "name": "stdout",
     "output_type": "stream",
     "text": [
      "0\n",
      "1\n",
      "2\n",
      "3\n",
      "4\n",
      "5\n",
      "6\n",
      "7\n",
      "8\n",
      "9\n",
      "10\n",
      "11\n"
     ]
    }
   ],
   "source": [
    "\n",
    "def generate_numbers(n):\n",
    "  for i in range(n):\n",
    "    yield i \n",
    "    \n",
    "\n",
    "#using the generator \n",
    "\n",
    "for num in generate_numbers(10000):\n",
    "  print(num)\n",
    "  if(num>10):\n",
    "    break"
   ]
  },
  {
   "cell_type": "code",
   "execution_count": 30,
   "id": "d72173d5",
   "metadata": {},
   "outputs": [],
   "source": [
    "#profiling memory usuage with tracemalloc\n",
    "\n",
    "import tracemalloc\n",
    "\n",
    "def create_list():\n",
    "  return [ i for i in range(1001)]\n",
    "\n",
    "\n",
    "def main():\n",
    "  tracemalloc.start()\n",
    "  \n",
    "  create_list()\n",
    "  \n",
    "  snapshot = tracemalloc.take_snapshot()\n",
    "  top_stats = snapshot.statistics('lineno')\n",
    "  \n",
    "  print(\"[Top 10]\")\n",
    "  for stat in top_stats[::]:\n",
    "    print(stat)"
   ]
  },
  {
   "cell_type": "code",
   "execution_count": 31,
   "id": "0101863c",
   "metadata": {},
   "outputs": [
    {
     "name": "stdout",
     "output_type": "stream",
     "text": [
      "[Top 10]\n",
      "c:\\Users\\user\\anaconda3\\Lib\\site-packages\\tornado\\platform\\asyncio.py:574: size=144 KiB, count=7, average=20.6 KiB\n",
      "c:\\Users\\user\\anaconda3\\Lib\\site-packages\\IPython\\core\\builtin_trap.py:70: size=6512 B, count=1, average=6512 B\n",
      "c:\\Users\\user\\anaconda3\\Lib\\asyncio\\windows_events.py:487: size=4129 B, count=1, average=4129 B\n",
      "c:\\Users\\user\\anaconda3\\Lib\\json\\decoder.py:353: size=2016 B, count=24, average=84 B\n",
      "c:\\Users\\user\\anaconda3\\Lib\\threading.py:293: size=1520 B, count=4, average=380 B\n",
      "c:\\Users\\user\\anaconda3\\Lib\\site-packages\\traitlets\\traitlets.py:731: size=1408 B, count=23, average=61 B\n",
      "c:\\Users\\user\\anaconda3\\Lib\\site-packages\\jupyter_client\\session.py:100: size=1243 B, count=8, average=155 B\n",
      "c:\\Users\\user\\anaconda3\\Lib\\site-packages\\IPython\\core\\compilerop.py:174: size=1211 B, count=18, average=67 B\n",
      "c:\\Users\\user\\anaconda3\\Lib\\site-packages\\traitlets\\traitlets.py:1514: size=1200 B, count=10, average=120 B\n",
      "c:\\Users\\user\\anaconda3\\Lib\\codeop.py:126: size=1196 B, count=9, average=133 B\n",
      "c:\\Users\\user\\anaconda3\\Lib\\site-packages\\zmq\\sugar\\socket.py:808: size=1056 B, count=6, average=176 B\n",
      "c:\\Users\\user\\anaconda3\\Lib\\site-packages\\traitlets\\traitlets.py:1543: size=997 B, count=17, average=59 B\n",
      "c:\\Users\\user\\anaconda3\\Lib\\site-packages\\zmq\\sugar\\attrsettr.py:44: size=987 B, count=21, average=47 B\n",
      "c:\\Users\\user\\anaconda3\\Lib\\site-packages\\jupyter_client\\session.py:1057: size=821 B, count=6, average=137 B\n",
      "c:\\Users\\user\\anaconda3\\Lib\\site-packages\\IPython\\core\\compilerop.py:86: size=785 B, count=10, average=78 B\n",
      "c:\\Users\\user\\anaconda3\\Lib\\site-packages\\ipykernel\\iostream.py:345: size=664 B, count=10, average=66 B\n",
      "c:\\Users\\user\\anaconda3\\Lib\\asyncio\\base_events.py:815: size=624 B, count=6, average=104 B\n",
      "c:\\Users\\user\\anaconda3\\Lib\\site-packages\\jupyter_client\\jsonutil.py:111: size=600 B, count=12, average=50 B\n",
      "c:\\Users\\user\\anaconda3\\Lib\\site-packages\\ipykernel\\iostream.py:275: size=528 B, count=5, average=106 B\n",
      "c:\\Users\\user\\anaconda3\\Lib\\site-packages\\IPython\\core\\interactiveshell.py:3104: size=520 B, count=4, average=130 B\n",
      "c:\\Users\\user\\anaconda3\\Lib\\asyncio\\events.py:88: size=432 B, count=6, average=72 B\n",
      "c:\\Users\\user\\anaconda3\\Lib\\asyncio\\windows_events.py:720: size=432 B, count=3, average=144 B\n",
      "c:\\Users\\user\\anaconda3\\Lib\\asyncio\\base_events.py:449: size=432 B, count=3, average=144 B\n",
      "c:\\Users\\user\\anaconda3\\Lib\\site-packages\\ipykernel\\kernelbase.py:764: size=424 B, count=2, average=212 B\n",
      "c:\\Users\\user\\anaconda3\\Lib\\site-packages\\IPython\\core\\history.py:782: size=415 B, count=2, average=208 B\n",
      "c:\\Users\\user\\anaconda3\\Lib\\site-packages\\ipykernel\\iostream.py:689: size=384 B, count=4, average=96 B\n",
      "c:\\Users\\user\\anaconda3\\Lib\\site-packages\\IPython\\core\\interactiveshell.py:3334: size=376 B, count=1, average=376 B\n",
      "c:\\Users\\user\\anaconda3\\Lib\\asyncio\\futures.py:422: size=360 B, count=9, average=40 B\n",
      "c:\\Users\\user\\anaconda3\\Lib\\site-packages\\IPython\\core\\history.py:836: size=360 B, count=5, average=72 B\n",
      "c:\\Users\\user\\anaconda3\\Lib\\site-packages\\ipykernel\\kernelbase.py:427: size=360 B, count=1, average=360 B\n",
      "c:\\Users\\user\\anaconda3\\Lib\\site-packages\\tornado\\platform\\asyncio.py:235: size=352 B, count=5, average=70 B\n",
      "c:\\Users\\user\\anaconda3\\Lib\\asyncio\\windows_events.py:743: size=352 B, count=3, average=117 B\n",
      "c:\\Users\\user\\anaconda3\\Lib\\site-packages\\ipykernel\\iostream.py:286: size=328 B, count=4, average=82 B\n",
      "c:\\Users\\user\\anaconda3\\Lib\\asyncio\\futures.py:398: size=320 B, count=2, average=160 B\n",
      "c:\\Users\\user\\anaconda3\\Lib\\asyncio\\futures.py:385: size=320 B, count=2, average=160 B\n",
      "c:\\Users\\user\\anaconda3\\Lib\\site-packages\\IPython\\core\\interactiveshell.py:3517: size=296 B, count=1, average=296 B\n",
      "c:\\Users\\user\\anaconda3\\Lib\\site-packages\\tornado\\queues.py:248: size=288 B, count=2, average=144 B\n",
      "c:\\Users\\user\\anaconda3\\Lib\\site-packages\\tornado\\platform\\asyncio.py:545: size=272 B, count=6, average=45 B\n",
      "c:\\Users\\user\\anaconda3\\Lib\\site-packages\\ipykernel\\kernelbase.py:523: size=264 B, count=1, average=264 B\n",
      "c:\\Users\\user\\anaconda3\\Lib\\concurrent\\futures\\_base.py:330: size=256 B, count=4, average=64 B\n",
      "c:\\Users\\user\\anaconda3\\Lib\\site-packages\\ipykernel\\iostream.py:120: size=248 B, count=1, average=248 B\n",
      "c:\\Users\\user\\anaconda3\\Lib\\threading.py:135: size=240 B, count=4, average=60 B\n",
      "c:\\Users\\user\\anaconda3\\Lib\\site-packages\\ipykernel\\kernelbase.py:310: size=240 B, count=4, average=60 B\n",
      "c:\\Users\\user\\anaconda3\\Lib\\inspect.py:266: size=240 B, count=2, average=120 B\n",
      "c:\\Users\\user\\anaconda3\\Lib\\logging\\__init__.py:1622: size=240 B, count=1, average=240 B\n",
      "C:\\Users\\user\\AppData\\Local\\Temp\\ipykernel_10028\\130816316.py:9: size=232 B, count=2, average=116 B\n",
      "C:\\Users\\user\\AppData\\Local\\Temp\\ipykernel_10028\\130816316.py:5: size=232 B, count=2, average=116 B\n",
      "c:\\Users\\user\\anaconda3\\Lib\\site-packages\\ipykernel\\kernelbase.py:534: size=232 B, count=1, average=232 B\n",
      "c:\\Users\\user\\anaconda3\\Lib\\site-packages\\ipykernel\\zmqshell.py:549: size=224 B, count=3, average=75 B\n",
      "c:\\Users\\user\\anaconda3\\Lib\\site-packages\\IPython\\core\\interactiveshell.py:3223: size=208 B, count=4, average=52 B\n",
      "c:\\Users\\user\\anaconda3\\Lib\\site-packages\\jupyter_client\\session.py:1085: size=208 B, count=1, average=208 B\n",
      "c:\\Users\\user\\anaconda3\\Lib\\site-packages\\jupyter_client\\jsonutil.py:75: size=208 B, count=1, average=208 B\n",
      "c:\\Users\\user\\anaconda3\\Lib\\site-packages\\ipykernel\\kernelbase.py:759: size=208 B, count=1, average=208 B\n",
      "c:\\Users\\user\\anaconda3\\Lib\\site-packages\\ipykernel\\compiler.py:91: size=204 B, count=2, average=102 B\n",
      "c:\\Users\\user\\anaconda3\\Lib\\site-packages\\jupyter_client\\session.py:688: size=194 B, count=2, average=97 B\n",
      "c:\\Users\\user\\anaconda3\\Lib\\asyncio\\proactor_events.py:818: size=192 B, count=3, average=64 B\n",
      "c:\\Users\\user\\anaconda3\\Lib\\site-packages\\jupyter_client\\session.py:750: size=192 B, count=2, average=96 B\n",
      "c:\\Users\\user\\anaconda3\\Lib\\site-packages\\zmq\\sugar\\socket.py:805: size=184 B, count=2, average=92 B\n",
      "c:\\Users\\user\\anaconda3\\Lib\\asyncio\\windows_events.py:484: size=184 B, count=1, average=184 B\n",
      "c:\\Users\\user\\anaconda3\\Lib\\site-packages\\ipykernel\\kernelbase.py:1171: size=173 B, count=2, average=86 B\n",
      "c:\\Users\\user\\anaconda3\\Lib\\site-packages\\IPython\\core\\interactiveshell.py:3224: size=160 B, count=4, average=40 B\n",
      "c:\\Users\\user\\anaconda3\\Lib\\site-packages\\zmq\\eventloop\\zmqstream.py:491: size=160 B, count=1, average=160 B\n",
      "c:\\Users\\user\\anaconda3\\Lib\\site-packages\\ipykernel\\kernelbase.py:559: size=160 B, count=1, average=160 B\n",
      "c:\\Users\\user\\anaconda3\\Lib\\site-packages\\ipykernel\\kernelbase.py:316: size=160 B, count=1, average=160 B\n",
      "c:\\Users\\user\\anaconda3\\Lib\\site-packages\\IPython\\core\\interactiveshell.py:3577: size=160 B, count=1, average=160 B\n",
      "c:\\Users\\user\\anaconda3\\Lib\\site-packages\\IPython\\core\\interactiveshell.py:3493: size=160 B, count=1, average=160 B\n",
      "c:\\Users\\user\\anaconda3\\Lib\\site-packages\\IPython\\core\\interactiveshell.py:3237: size=160 B, count=1, average=160 B\n",
      "c:\\Users\\user\\anaconda3\\Lib\\asyncio\\futures.py:391: size=160 B, count=1, average=160 B\n",
      "c:\\Users\\user\\anaconda3\\Lib\\site-packages\\zmq\\sugar\\socket.py:750: size=152 B, count=3, average=51 B\n",
      "c:\\Users\\user\\anaconda3\\Lib\\threading.py:292: size=144 B, count=2, average=72 B\n",
      "c:\\Users\\user\\anaconda3\\Lib\\threading.py:290: size=144 B, count=2, average=72 B\n",
      "c:\\Users\\user\\anaconda3\\Lib\\threading.py:288: size=144 B, count=2, average=72 B\n",
      "c:\\Users\\user\\anaconda3\\Lib\\threading.py:283: size=144 B, count=2, average=72 B\n",
      "c:\\Users\\user\\anaconda3\\Lib\\threading.py:282: size=144 B, count=2, average=72 B\n",
      "c:\\Users\\user\\anaconda3\\Lib\\threading.py:348: size=120 B, count=2, average=60 B\n",
      "c:\\Users\\user\\anaconda3\\Lib\\site-packages\\zmq\\eventloop\\zmqstream.py:675: size=120 B, count=1, average=120 B\n",
      "c:\\Users\\user\\anaconda3\\Lib\\asyncio\\base_events.py:778: size=120 B, count=1, average=120 B\n",
      "c:\\Users\\user\\anaconda3\\Lib\\site-packages\\jupyter_client\\session.py:989: size=111 B, count=2, average=56 B\n",
      "c:\\Users\\user\\anaconda3\\Lib\\asyncio\\base_events.py:1970: size=96 B, count=3, average=32 B\n",
      "c:\\Users\\user\\anaconda3\\Lib\\site-packages\\IPython\\core\\interactiveshell.py:3375: size=96 B, count=2, average=48 B\n",
      "c:\\Users\\user\\anaconda3\\Lib\\site-packages\\IPython\\core\\history.py:805: size=90 B, count=2, average=45 B\n",
      "c:\\Users\\user\\anaconda3\\Lib\\site-packages\\ipykernel\\kernelbase.py:383: size=80 B, count=2, average=40 B\n",
      "c:\\Users\\user\\anaconda3\\Lib\\site-packages\\ipykernel\\kernelbase.py:319: size=80 B, count=2, average=40 B\n",
      "c:\\Users\\user\\anaconda3\\Lib\\tracemalloc.py:551: size=72 B, count=1, average=72 B\n",
      "c:\\Users\\user\\anaconda3\\Lib\\tracemalloc.py:528: size=72 B, count=1, average=72 B\n",
      "c:\\Users\\user\\anaconda3\\Lib\\tracemalloc.py:477: size=72 B, count=1, average=72 B\n",
      "c:\\Users\\user\\anaconda3\\Lib\\tracemalloc.py:420: size=72 B, count=1, average=72 B\n",
      "c:\\Users\\user\\anaconda3\\Lib\\tracemalloc.py:312: size=72 B, count=1, average=72 B\n",
      "c:\\Users\\user\\anaconda3\\Lib\\tracemalloc.py:225: size=72 B, count=1, average=72 B\n",
      "c:\\Users\\user\\anaconda3\\Lib\\tracemalloc.py:220: size=72 B, count=1, average=72 B\n",
      "c:\\Users\\user\\anaconda3\\Lib\\tracemalloc.py:215: size=72 B, count=1, average=72 B\n",
      "c:\\Users\\user\\anaconda3\\Lib\\tracemalloc.py:212: size=72 B, count=1, average=72 B\n",
      "c:\\Users\\user\\anaconda3\\Lib\\tracemalloc.py:203: size=72 B, count=1, average=72 B\n",
      "c:\\Users\\user\\anaconda3\\Lib\\tracemalloc.py:187: size=72 B, count=1, average=72 B\n",
      "c:\\Users\\user\\anaconda3\\Lib\\tracemalloc.py:172: size=72 B, count=1, average=72 B\n",
      "c:\\Users\\user\\anaconda3\\Lib\\tracemalloc.py:155: size=72 B, count=1, average=72 B\n",
      "c:\\Users\\user\\anaconda3\\Lib\\tracemalloc.py:151: size=72 B, count=1, average=72 B\n",
      "c:\\Users\\user\\anaconda3\\Lib\\tracemalloc.py:147: size=72 B, count=1, average=72 B\n",
      "c:\\Users\\user\\anaconda3\\Lib\\tracemalloc.py:66: size=72 B, count=1, average=72 B\n",
      "c:\\Users\\user\\anaconda3\\Lib\\tracemalloc.py:52: size=72 B, count=1, average=72 B\n",
      "c:\\Users\\user\\anaconda3\\Lib\\tracemalloc.py:37: size=72 B, count=1, average=72 B\n",
      "c:\\Users\\user\\anaconda3\\Lib\\tracemalloc.py:13: size=72 B, count=1, average=72 B\n",
      "c:\\Users\\user\\anaconda3\\Lib\\site-packages\\IPython\\core\\history.py:851: size=72 B, count=1, average=72 B\n",
      "c:\\Users\\user\\anaconda3\\Lib\\site-packages\\IPython\\core\\history.py:834: size=72 B, count=1, average=72 B\n",
      "C:\\Users\\user\\AppData\\Local\\Temp\\ipykernel_10028\\451043146.py:0: size=72 B, count=1, average=72 B\n",
      "c:\\Users\\user\\anaconda3\\Lib\\asyncio\\windows_events.py:462: size=68 B, count=2, average=34 B\n",
      "c:\\Users\\user\\anaconda3\\Lib\\site-packages\\tornado\\queues.py:318: size=64 B, count=2, average=32 B\n",
      "c:\\Users\\user\\anaconda3\\Lib\\site-packages\\IPython\\core\\interactiveshell.py:3509: size=64 B, count=2, average=32 B\n",
      "c:\\Users\\user\\anaconda3\\Lib\\concurrent\\futures\\_base.py:421: size=64 B, count=2, average=32 B\n",
      "c:\\Users\\user\\anaconda3\\Lib\\site-packages\\zmq\\sugar\\socket.py:809: size=64 B, count=1, average=64 B\n",
      "c:\\Users\\user\\anaconda3\\Lib\\site-packages\\zmq\\eventloop\\zmqstream.py:663: size=64 B, count=1, average=64 B\n",
      "c:\\Users\\user\\anaconda3\\Lib\\site-packages\\tornado\\platform\\asyncio.py:598: size=64 B, count=1, average=64 B\n",
      "c:\\Users\\user\\anaconda3\\Lib\\site-packages\\tornado\\platform\\asyncio.py:550: size=64 B, count=1, average=64 B\n",
      "c:\\Users\\user\\anaconda3\\Lib\\site-packages\\ipykernel\\ipkernel.py:429: size=64 B, count=1, average=64 B\n",
      "c:\\Users\\user\\anaconda3\\Lib\\site-packages\\ipykernel\\ipkernel.py:364: size=64 B, count=1, average=64 B\n",
      "c:\\Users\\user\\anaconda3\\Lib\\site-packages\\ipykernel\\ipkernel.py:363: size=64 B, count=1, average=64 B\n",
      "c:\\Users\\user\\anaconda3\\Lib\\site-packages\\ipykernel\\ipkernel.py:280: size=64 B, count=1, average=64 B\n",
      "c:\\Users\\user\\anaconda3\\Lib\\site-packages\\ipykernel\\ipkernel.py:277: size=64 B, count=1, average=64 B\n",
      "c:\\Users\\user\\anaconda3\\Lib\\site-packages\\decorator.py:232: size=64 B, count=1, average=64 B\n",
      "c:\\Users\\user\\anaconda3\\Lib\\site-packages\\IPython\\core\\interactiveshell.py:3566: size=64 B, count=1, average=64 B\n",
      "c:\\Users\\user\\anaconda3\\Lib\\site-packages\\IPython\\core\\interactiveshell.py:3303: size=64 B, count=1, average=64 B\n",
      "c:\\Users\\user\\anaconda3\\Lib\\site-packages\\IPython\\core\\interactiveshell.py:3300: size=64 B, count=1, average=64 B\n",
      "c:\\Users\\user\\anaconda3\\Lib\\site-packages\\tornado\\platform\\asyncio.py:575: size=56 B, count=1, average=56 B\n",
      "c:\\Users\\user\\anaconda3\\Lib\\site-packages\\jupyter_client\\session.py:1088: size=56 B, count=1, average=56 B\n",
      "c:\\Users\\user\\anaconda3\\Lib\\site-packages\\IPython\\core\\history.py:866: size=56 B, count=1, average=56 B\n",
      "c:\\Users\\user\\anaconda3\\Lib\\asyncio\\windows_events.py:447: size=56 B, count=1, average=56 B\n",
      "c:\\Users\\user\\anaconda3\\Lib\\site-packages\\tornado\\platform\\asyncio.py:615: size=48 B, count=1, average=48 B\n",
      "c:\\Users\\user\\anaconda3\\Lib\\site-packages\\jupyter_client\\session.py:200: size=48 B, count=1, average=48 B\n",
      "c:\\Users\\user\\anaconda3\\Lib\\site-packages\\dateutil\\parser\\_parser.py:1195: size=48 B, count=1, average=48 B\n",
      "c:\\Users\\user\\anaconda3\\Lib\\site-packages\\IPython\\core\\interactiveshell.py:3505: size=48 B, count=1, average=48 B\n",
      "c:\\Users\\user\\anaconda3\\Lib\\site-packages\\IPython\\core\\history.py:835: size=48 B, count=1, average=48 B\n",
      "c:\\Users\\user\\anaconda3\\Lib\\site-packages\\IPython\\core\\prefilter.py:317: size=47 B, count=1, average=47 B\n",
      "c:\\Users\\user\\anaconda3\\Lib\\site-packages\\jupyter_client\\session.py:996: size=32 B, count=1, average=32 B\n",
      "c:\\Users\\user\\anaconda3\\Lib\\site-packages\\jupyter_client\\session.py:603: size=32 B, count=1, average=32 B\n",
      "c:\\Users\\user\\anaconda3\\Lib\\site-packages\\ipykernel\\iostream.py:606: size=32 B, count=1, average=32 B\n",
      "c:\\Users\\user\\anaconda3\\Lib\\site-packages\\ipykernel\\iostream.py:167: size=32 B, count=1, average=32 B\n",
      "c:\\Users\\user\\anaconda3\\Lib\\site-packages\\IPython\\core\\interactiveshell.py:3503: size=32 B, count=1, average=32 B\n",
      "c:\\Users\\user\\anaconda3\\Lib\\site-packages\\IPython\\core\\history.py:793: size=32 B, count=1, average=32 B\n",
      "c:\\Users\\user\\anaconda3\\Lib\\site-packages\\IPython\\core\\compilerop.py:192: size=32 B, count=1, average=32 B\n",
      "c:\\Users\\user\\anaconda3\\Lib\\queue.py:151: size=32 B, count=1, average=32 B\n",
      "c:\\Users\\user\\anaconda3\\Lib\\asyncio\\base_events.py:781: size=32 B, count=1, average=32 B\n",
      "c:\\Users\\user\\anaconda3\\Lib\\threading.py:351: size=28 B, count=1, average=28 B\n",
      "c:\\Users\\user\\anaconda3\\Lib\\site-packages\\ipykernel\\kernelbase.py:549: size=28 B, count=1, average=28 B\n",
      "c:\\Users\\user\\anaconda3\\Lib\\site-packages\\IPython\\core\\compilerop.py:172: size=28 B, count=1, average=28 B\n",
      "c:\\Users\\user\\anaconda3\\Lib\\site-packages\\IPython\\core\\interactiveshell.py:3485: size=8 B, count=1, average=8 B\n"
     ]
    }
   ],
   "source": [
    "main()"
   ]
  },
  {
   "cell_type": "code",
   "execution_count": null,
   "id": "d76e1174",
   "metadata": {},
   "outputs": [],
   "source": []
  }
 ],
 "metadata": {
  "kernelspec": {
   "display_name": "base",
   "language": "python",
   "name": "python3"
  },
  "language_info": {
   "codemirror_mode": {
    "name": "ipython",
    "version": 3
   },
   "file_extension": ".py",
   "mimetype": "text/x-python",
   "name": "python",
   "nbconvert_exporter": "python",
   "pygments_lexer": "ipython3",
   "version": "3.12.7"
  }
 },
 "nbformat": 4,
 "nbformat_minor": 5
}
