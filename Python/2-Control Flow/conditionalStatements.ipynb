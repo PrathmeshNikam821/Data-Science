{
 "cells": [
  {
   "cell_type": "markdown",
   "metadata": {},
   "source": []
  },
  {
   "cell_type": "markdown",
   "metadata": {},
   "source": [
    "## If statements "
   ]
  },
  {
   "cell_type": "code",
   "execution_count": 4,
   "metadata": {},
   "outputs": [
    {
     "name": "stdout",
     "output_type": "stream",
     "text": [
      "You are allowed to vote in the election \n"
     ]
    }
   ],
   "source": [
    "# if \n",
    "\n",
    "age = 25 \n",
    "\n",
    "if age>=20:\n",
    "  print(\"You are allowed to vote in the election \" )"
   ]
  },
  {
   "cell_type": "code",
   "execution_count": 5,
   "metadata": {},
   "outputs": [
    {
     "name": "stdout",
     "output_type": "stream",
     "text": [
      "You are not eligible \n"
     ]
    }
   ],
   "source": [
    "# if - else \n",
    "\n",
    "age = 15 \n",
    "if age>=18:\n",
    "  print(\"You are eligible\")\n",
    "else :\n",
    "  print(\"You are not eligible \")"
   ]
  },
  {
   "cell_type": "code",
   "execution_count": 6,
   "metadata": {},
   "outputs": [
    {
     "name": "stdout",
     "output_type": "stream",
     "text": [
      "Still cant vote\n"
     ]
    }
   ],
   "source": [
    "#elif statements \n",
    "\n",
    "age = 15 \n",
    "\n",
    "if age<12:\n",
    "  print(\"children\")\n",
    "elif age>=12 and age<15:\n",
    "  print(\"Younger\")\n",
    "elif(age<18):\n",
    "  print(\"Still cant vote\")\n",
    "else : \n",
    "  print(\"can vote\")"
   ]
  },
  {
   "cell_type": "code",
   "execution_count": null,
   "metadata": {},
   "outputs": [
    {
     "name": "stdout",
     "output_type": "stream",
     "text": [
      "number is negative\n",
      "number is even\n"
     ]
    }
   ],
   "source": [
    "#nested conditional statements \n",
    "\n",
    "# number  odd ,even , negative \n",
    "\n",
    "num = int(input(\"Enter the number\"))\n",
    "\n",
    "if num>=0:\n",
    "  print(\"number is positive\")\n",
    "  if(num%2 == 0 ):\n",
    "    print(\"Even number\")\n",
    "  else:\n",
    "    print(\"Odd number\")\n",
    "\n",
    "else: \n",
    "  print(\"number is negative\")\n",
    "  if(num%2==0):\n",
    "    print(\"number is even\")\n",
    "  else:\n",
    "    print(\"number is odd\")\n"
   ]
  },
  {
   "cell_type": "code",
   "execution_count": null,
   "metadata": {},
   "outputs": [],
   "source": []
  }
 ],
 "metadata": {
  "kernelspec": {
   "display_name": "Python 3",
   "language": "python",
   "name": "python3"
  },
  "language_info": {
   "codemirror_mode": {
    "name": "ipython",
    "version": 3
   },
   "file_extension": ".py",
   "mimetype": "text/x-python",
   "name": "python",
   "nbconvert_exporter": "python",
   "pygments_lexer": "ipython3",
   "version": "3.12.0"
  }
 },
 "nbformat": 4,
 "nbformat_minor": 2
}
