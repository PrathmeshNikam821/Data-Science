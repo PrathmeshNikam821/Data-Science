{
 "cells": [
  {
   "cell_type": "markdown",
   "id": "3a5ad0e3",
   "metadata": {},
   "source": [
    "provide a way to track a events ,errors and operational information . \n",
    "\n",
    "built in logging module offer a flexible framework for emitting log messages from python programs . "
   ]
  },
  {
   "cell_type": "code",
   "execution_count": 2,
   "id": "0c82fd1b",
   "metadata": {},
   "outputs": [
    {
     "name": "stderr",
     "output_type": "stream",
     "text": [
      "WARNING:root:This is a warning message \n",
      "ERROR:root:This is a error message\n",
      "CRITICAL:root:This is critical message\n"
     ]
    }
   ],
   "source": [
    "import logging \n",
    "\n",
    "\n",
    "#configure the basic logging  settings \n",
    "\n",
    "logging.basicConfig(level=logging.DEBUG)\n",
    "\n",
    "#logging messages \n",
    "\n",
    "\n",
    "logging.warning(\"This is a warning message \")\n",
    "logging.error(\"This is a error message\")\n",
    "logging.critical(\"This is critical message\")\n"
   ]
  },
  {
   "cell_type": "code",
   "execution_count": 3,
   "id": "bb505fe9",
   "metadata": {},
   "outputs": [
    {
     "name": "stderr",
     "output_type": "stream",
     "text": [
      "DEBUG:root:This is a debug message \n",
      "INFO:root:This is a info message \n"
     ]
    }
   ],
   "source": [
    "logging.debug(\"This is a debug message \")\n",
    "logging.info(\"This is a info message \")"
   ]
  },
  {
   "cell_type": "code",
   "execution_count": 1,
   "id": "796bd413",
   "metadata": {},
   "outputs": [],
   "source": [
    "import logging\n",
    "\n",
    "#configuring logging\n",
    "\n",
    "logging.basicConfig(\n",
    "       filename='app.log',\n",
    "       filemode='w',\n",
    "       level=logging.DEBUG,\n",
    "       format='%(asctime)s-%(name)s-%(levelname)s-%(message)s',\n",
    "       datefmt='%Y-%m-%d %H:%M:%S'\n",
    ")\n",
    "\n",
    "logging.debug(\"This is a debug message \")\n",
    "logging.info(\"This is a info message \")\n",
    "logging.warning(\"This is a warning message \")\n",
    "logging.error(\"This is a error message\")\n",
    "logging.critical(\"This is critical message\")\n",
    "\n"
   ]
  },
  {
   "cell_type": "code",
   "execution_count": 2,
   "id": "2d26f575",
   "metadata": {},
   "outputs": [],
   "source": [
    "logging.warning(\"This is a warning message \")\n",
    "logging.error(\"This is a error message\")\n",
    "logging.critical(\"This is critical message\")"
   ]
  },
  {
   "cell_type": "code",
   "execution_count": null,
   "id": "3dd028c3",
   "metadata": {},
   "outputs": [],
   "source": []
  }
 ],
 "metadata": {
  "kernelspec": {
   "display_name": "base",
   "language": "python",
   "name": "python3"
  },
  "language_info": {
   "codemirror_mode": {
    "name": "ipython",
    "version": 3
   },
   "file_extension": ".py",
   "mimetype": "text/x-python",
   "name": "python",
   "nbconvert_exporter": "python",
   "pygments_lexer": "ipython3",
   "version": "3.12.7"
  }
 },
 "nbformat": 4,
 "nbformat_minor": 5
}
