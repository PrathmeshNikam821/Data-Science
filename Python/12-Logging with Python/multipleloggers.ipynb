{
 "cells": [
  {
   "cell_type": "markdown",
   "id": "8e1d489c",
   "metadata": {},
   "source": [
    "we can create multiple loggers for diff parts of your application \n"
   ]
  },
  {
   "cell_type": "code",
   "execution_count": 2,
   "id": "984b1ec7",
   "metadata": {},
   "outputs": [],
   "source": [
    "import logging \n",
    "\n",
    "#create a logger for module 1 \n",
    "logger1 = logging.getLogger(\"module1\")\n",
    "logger1.setLevel(logging.DEBUG)\n",
    "\n",
    "\n",
    "#create a logger for module 2 \n",
    "\n",
    "logger2 = logging.getLogger(\"module2\")\n",
    "logger2.setLevel(logging.WARNING)\n",
    "\n",
    "logging.basicConfig(\n",
    "       level=logging.DEBUG,\n",
    "       format='%(asctime)s-%(name)s-%(levelname)s-%(message)s',\n",
    "       datefmt='%Y-%m-%d %H:%M:%S'\n",
    ")"
   ]
  },
  {
   "cell_type": "code",
   "execution_count": 6,
   "id": "2e382c01",
   "metadata": {},
   "outputs": [
    {
     "name": "stderr",
     "output_type": "stream",
     "text": [
      "2025-06-24 18:29:02-module1-DEBUG-This is debug message for logger1\n",
      "2025-06-24 18:29:02-module2-WARNING-This is warning for module2 \n",
      "2025-06-24 18:29:02-module2-ERROR-This is erorr message for logger 2 \n"
     ]
    }
   ],
   "source": [
    "#log messages with different loggers \n",
    "\n",
    "logger1.debug(\"This is debug message for logger1\")\n",
    "logger2.warning(\"This is warning for module2 \")\n",
    "logger2.error(\"This is erorr message for logger 2 \")"
   ]
  },
  {
   "cell_type": "code",
   "execution_count": null,
   "id": "6b5cd17e",
   "metadata": {},
   "outputs": [],
   "source": []
  }
 ],
 "metadata": {
  "kernelspec": {
   "display_name": "base",
   "language": "python",
   "name": "python3"
  },
  "language_info": {
   "codemirror_mode": {
    "name": "ipython",
    "version": 3
   },
   "file_extension": ".py",
   "mimetype": "text/x-python",
   "name": "python",
   "nbconvert_exporter": "python",
   "pygments_lexer": "ipython3",
   "version": "3.12.7"
  }
 },
 "nbformat": 4,
 "nbformat_minor": 5
}
