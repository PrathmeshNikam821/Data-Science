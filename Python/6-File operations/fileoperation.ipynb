{
 "cells": [
  {
   "cell_type": "code",
   "execution_count": null,
   "metadata": {},
   "outputs": [],
   "source": []
  },
  {
   "cell_type": "markdown",
   "metadata": {},
   "source": [
    "# Read and write files "
   ]
  },
  {
   "cell_type": "markdown",
   "metadata": {},
   "source": []
  },
  {
   "cell_type": "code",
   "execution_count": 3,
   "metadata": {},
   "outputs": [
    {
     "name": "stdout",
     "output_type": "stream",
     "text": [
      "hii i am Pratham\n",
      "\n",
      "i like this course and i want to complete it as soon as possible \n",
      "\n",
      "as i have to prepare for my interview \n"
     ]
    }
   ],
   "source": [
    "#read a whole file \n",
    "\n",
    "with open('example.txt' , 'r') as file:\n",
    "  content = file.read()\n",
    "  print(content)"
   ]
  },
  {
   "cell_type": "code",
   "execution_count": 7,
   "metadata": {},
   "outputs": [
    {
     "name": "stdout",
     "output_type": "stream",
     "text": [
      "hii i am Pratham\n",
      "\n",
      "i like this course and i want to complete it as soon as possible\n",
      "\n",
      "as i have to prepare for my interview\n"
     ]
    }
   ],
   "source": [
    "with open('example.txt' , 'r') as file:\n",
    "  for line in file:\n",
    "    print(line.strip()) #s.strip() opn removes the newline character "
   ]
  },
  {
   "cell_type": "code",
   "execution_count": null,
   "metadata": {},
   "outputs": [],
   "source": [
    "#writing a file(overwriting):\n",
    "\n",
    "\n",
    "with open('example.txt' , 'w') as file:\n",
    "  file.write(\"hello world\\n\")\n",
    "  file.write(\"this is new line . \")\n",
    "\n"
   ]
  },
  {
   "cell_type": "code",
   "execution_count": 12,
   "metadata": {},
   "outputs": [],
   "source": [
    "#write a file(without overwriting):\n",
    "\n",
    "with open('example.txt','a') as file:\n",
    "  file.write(\"\\n How are you all\")\n",
    "  file.write(\"\\n I want to play cricket \")"
   ]
  },
  {
   "cell_type": "code",
   "execution_count": 14,
   "metadata": {},
   "outputs": [],
   "source": [
    "#writing a list of lines to a file \n",
    "lines=['\\nFirst line\\n' , 'second line\\n' , 'third line\\n']\n",
    "with open('example.txt','a') as file:\n",
    "  file.writelines(lines)"
   ]
  },
  {
   "cell_type": "code",
   "execution_count": null,
   "metadata": {},
   "outputs": [],
   "source": [
    "#Binary Files \n",
    "\n",
    "#write binary files \n",
    "\n",
    "data = b'\\x00\\x01\\x02\\x03\\x04'\n",
    "\n",
    "with open('example.bin', 'wb') as file:\n",
    "  file.write(data)"
   ]
  },
  {
   "cell_type": "code",
   "execution_count": 16,
   "metadata": {},
   "outputs": [
    {
     "name": "stdout",
     "output_type": "stream",
     "text": [
      "b'\\x00\\x01\\x02\\x03\\x04'\n"
     ]
    }
   ],
   "source": [
    "# reading a binary files \n",
    "with open('example.bin' , 'rb') as file : \n",
    "  content = file.read() \n",
    "  print(content)"
   ]
  },
  {
   "cell_type": "code",
   "execution_count": 17,
   "metadata": {},
   "outputs": [],
   "source": [
    "#read from one file and write to a destination file \n",
    "\n",
    "with open('example.txt' , 'r') as file:\n",
    "  content = file.read()\n",
    "\n",
    "with open('destination.txt' , 'w') as dest_file : \n",
    "  dest_file.write(content)"
   ]
  },
  {
   "cell_type": "code",
   "execution_count": 24,
   "metadata": {},
   "outputs": [
    {
     "name": "stdout",
     "output_type": "stream",
     "text": [
      "hello world ! \n",
      "Who are you ? I want to know . \n",
      "\n"
     ]
    }
   ],
   "source": [
    "#writing and then reading a file : \n",
    "\n",
    "#\"w+ \" mode in python is used to open a file for both read and write operations \n",
    "#if file is already there it will overwrite content \n",
    "\n",
    "with open('example2.txt' ,'w+') as file:\n",
    "  file.write(\"hello world ! \\n\")\n",
    "  file.write(\"Who are you ? I want to know . \\n\")\n",
    "\n",
    "\n",
    "  #move the file cursor to the first line again \n",
    "  file.seek(0)\n",
    "\n",
    "\n",
    "  # read content of the file \n",
    "\n",
    "  print(file.read())\n"
   ]
  },
  {
   "cell_type": "code",
   "execution_count": null,
   "metadata": {},
   "outputs": [],
   "source": []
  }
 ],
 "metadata": {
  "kernelspec": {
   "display_name": "Python 3",
   "language": "python",
   "name": "python3"
  },
  "language_info": {
   "codemirror_mode": {
    "name": "ipython",
    "version": 3
   },
   "file_extension": ".py",
   "mimetype": "text/x-python",
   "name": "python",
   "nbconvert_exporter": "python",
   "pygments_lexer": "ipython3",
   "version": "3.12.0"
  }
 },
 "nbformat": 4,
 "nbformat_minor": 2
}
