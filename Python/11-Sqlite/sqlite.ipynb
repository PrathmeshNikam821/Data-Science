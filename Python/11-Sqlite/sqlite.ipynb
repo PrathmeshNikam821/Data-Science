{
 "cells": [
  {
   "cell_type": "code",
   "execution_count": 1,
   "id": "65469dfa",
   "metadata": {},
   "outputs": [],
   "source": [
    "import sqlite3"
   ]
  },
  {
   "cell_type": "code",
   "execution_count": 2,
   "id": "b0588892",
   "metadata": {},
   "outputs": [
    {
     "data": {
      "text/plain": [
       "<sqlite3.Connection at 0x2259395b970>"
      ]
     },
     "execution_count": 2,
     "metadata": {},
     "output_type": "execute_result"
    }
   ],
   "source": [
    "#connection to a sqlite3 database\n",
    "\n",
    "connection = sqlite3.connect('example.db')\n",
    "connection"
   ]
  },
  {
   "cell_type": "code",
   "execution_count": 3,
   "id": "18b64021",
   "metadata": {},
   "outputs": [
    {
     "data": {
      "text/plain": [
       "<sqlite3.Cursor at 0x22593a914c0>"
      ]
     },
     "execution_count": 3,
     "metadata": {},
     "output_type": "execute_result"
    }
   ],
   "source": [
    "cursor = connection.cursor()\n",
    "cursor"
   ]
  },
  {
   "cell_type": "code",
   "execution_count": 5,
   "id": "659bced2",
   "metadata": {},
   "outputs": [],
   "source": [
    "#create a table \n",
    "\n",
    "cursor.execute('''\n",
    "Create Table if not exists Employee(\n",
    "               id Integer Primary Key ,\n",
    "               name varchar not null , \n",
    "               age integer,\n",
    "               department text\n",
    "               \n",
    "               )\n",
    "\n",
    "\n",
    "\n",
    "''')\n",
    "\n",
    "#commiting the changes\n",
    "\n",
    "connection.commit()"
   ]
  },
  {
   "cell_type": "code",
   "execution_count": 6,
   "id": "b85b8425",
   "metadata": {},
   "outputs": [
    {
     "data": {
      "text/plain": [
       "<sqlite3.Cursor at 0x22593a914c0>"
      ]
     },
     "execution_count": 6,
     "metadata": {},
     "output_type": "execute_result"
    }
   ],
   "source": [
    "cursor.execute('''\n",
    "select * from Employee''')"
   ]
  },
  {
   "cell_type": "code",
   "execution_count": 13,
   "id": "d152b6d0",
   "metadata": {},
   "outputs": [],
   "source": [
    "#insert the data \n",
    "\n",
    "cursor.execute('''\n",
    "insert into Employee(id, name ,age , department)\n",
    "               values(2,'Anish', 22 , 'CS')\n",
    "''')\n",
    "\n",
    "cursor.execute('''\n",
    "insert into Employee(id, name ,age , department)\n",
    "               values(3,'Umesh', 22 , 'CS')\n",
    "''')\n",
    "\n",
    "\n",
    "cursor.execute('''\n",
    "insert into Employee(id, name ,age , department)\n",
    "               values(4,'Kunal', 22 , 'CS')\n",
    "''')\n",
    "\n",
    "#commit the changes \n",
    "connection.commit()"
   ]
  },
  {
   "cell_type": "code",
   "execution_count": 17,
   "id": "e7c12b50",
   "metadata": {},
   "outputs": [
    {
     "name": "stdout",
     "output_type": "stream",
     "text": [
      "(1, 'Pratham', 22, 'CS')\n",
      "(2, 'Anish', 22, 'CS')\n",
      "(3, 'Umesh', 22, 'CS')\n",
      "(4, 'Kunal', 22, 'CS')\n"
     ]
    }
   ],
   "source": [
    "#querying the data from sqlite3\n",
    "cursor.execute('select * from Employee')\n",
    "\n",
    "rows = cursor.fetchall()\n",
    "\n",
    "#print the queried data\n",
    "\n",
    "for row in rows : \n",
    "  print(row)\n"
   ]
  },
  {
   "cell_type": "code",
   "execution_count": 19,
   "id": "5a3795e5",
   "metadata": {},
   "outputs": [],
   "source": [
    "#update the data in the table \n",
    "\n",
    "cursor.execute('''\n",
    "  update Employee \n",
    "  set department = 'AIDS' \n",
    "  where id = 2\n",
    "''')\n",
    "connection.commit()"
   ]
  },
  {
   "cell_type": "code",
   "execution_count": 20,
   "id": "42a3aa88",
   "metadata": {},
   "outputs": [
    {
     "name": "stdout",
     "output_type": "stream",
     "text": [
      "(1, 'Pratham', 22, 'CS')\n",
      "(2, 'Anish', 22, 'AIDS')\n",
      "(3, 'Umesh', 22, 'CS')\n",
      "(4, 'Kunal', 22, 'CS')\n"
     ]
    }
   ],
   "source": [
    "#querying the data from sqlite3\n",
    "cursor.execute('select * from Employee')\n",
    "\n",
    "rows = cursor.fetchall()\n",
    "\n",
    "#print the queried data\n",
    "\n",
    "for row in rows : \n",
    "  print(row)\n"
   ]
  },
  {
   "cell_type": "code",
   "execution_count": 21,
   "id": "cc68807d",
   "metadata": {},
   "outputs": [],
   "source": [
    "#delete a data from db \n",
    "\n",
    "cursor.execute('''\n",
    "  Delete from Employee\n",
    "  where id =4 \n",
    "\n",
    "''')\n",
    "\n",
    "connection.commit()"
   ]
  },
  {
   "cell_type": "code",
   "execution_count": 22,
   "id": "1c9b3112",
   "metadata": {},
   "outputs": [
    {
     "name": "stdout",
     "output_type": "stream",
     "text": [
      "(1, 'Pratham', 22, 'CS')\n",
      "(2, 'Anish', 22, 'AIDS')\n",
      "(3, 'Umesh', 22, 'CS')\n"
     ]
    }
   ],
   "source": [
    "#querying the data from sqlite3\n",
    "cursor.execute('select * from Employee')\n",
    "\n",
    "rows = cursor.fetchall()\n",
    "\n",
    "#print the queried data\n",
    "\n",
    "for row in rows : \n",
    "  print(row)\n"
   ]
  },
  {
   "cell_type": "code",
   "execution_count": 23,
   "id": "cd641093",
   "metadata": {},
   "outputs": [],
   "source": [
    "#close the connection \n",
    "\n",
    "connection.close()"
   ]
  },
  {
   "cell_type": "code",
   "execution_count": null,
   "id": "2de4866b",
   "metadata": {},
   "outputs": [],
   "source": []
  },
  {
   "cell_type": "code",
   "execution_count": null,
   "id": "83200191",
   "metadata": {},
   "outputs": [],
   "source": []
  }
 ],
 "metadata": {
  "kernelspec": {
   "display_name": "base",
   "language": "python",
   "name": "python3"
  },
  "language_info": {
   "codemirror_mode": {
    "name": "ipython",
    "version": 3
   },
   "file_extension": ".py",
   "mimetype": "text/x-python",
   "name": "python",
   "nbconvert_exporter": "python",
   "pygments_lexer": "ipython3",
   "version": "3.12.7"
  }
 },
 "nbformat": 4,
 "nbformat_minor": 5
}
