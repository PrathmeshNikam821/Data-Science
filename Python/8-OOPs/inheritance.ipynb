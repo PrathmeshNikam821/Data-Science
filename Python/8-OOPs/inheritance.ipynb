{
 "cells": [
  {
   "cell_type": "code",
   "execution_count": 1,
   "metadata": {},
   "outputs": [],
   "source": [
    "#allows a class to inherit attrbutes and methods from another class "
   ]
  },
  {
   "cell_type": "code",
   "execution_count": 9,
   "metadata": {},
   "outputs": [],
   "source": [
    "#Parent class (Single inheritance )\n",
    "\n",
    "class Car : \n",
    "  def __init__(self , windows,doors,enginetype):\n",
    "    self.windows = windows \n",
    "    self.doors = doors \n",
    "    self.enginetype = enginetype\n",
    "\n",
    "  def drive(self):\n",
    "    print(f\"the person will drive {self.enginetype} car\")\n",
    "  \n"
   ]
  },
  {
   "cell_type": "code",
   "execution_count": 3,
   "metadata": {},
   "outputs": [
    {
     "name": "stdout",
     "output_type": "stream",
     "text": [
      "the person will drive Petrol car\n"
     ]
    }
   ],
   "source": [
    "car1 = Car(4 ,4 , \"Petrol\")\n",
    "\n",
    "car1.drive()"
   ]
  },
  {
   "cell_type": "code",
   "execution_count": 6,
   "metadata": {},
   "outputs": [],
   "source": [
    "#child class \n",
    "\n",
    "\n",
    "class Tesla(Car):\n",
    "  def __init__(self,windows,doors,enginetype,is_SelfDriving):\n",
    "    super().__init__(windows,doors,enginetype)\n",
    "    self.is_SelfDriving = is_SelfDriving\n",
    "\n",
    "\n",
    "  def selfDriving(self):\n",
    "    print(f\"Tesla supports self driving : {self.is_SelfDriving}\")\n",
    "  \n",
    "\n",
    "\n",
    "\n",
    "  "
   ]
  },
  {
   "cell_type": "code",
   "execution_count": 8,
   "metadata": {},
   "outputs": [
    {
     "name": "stdout",
     "output_type": "stream",
     "text": [
      "Tesla supports self driving : True\n",
      "the person will drive Electrical car\n"
     ]
    }
   ],
   "source": [
    "tesla1 = Tesla(4,4,\"Electrical\" , True)\n",
    "tesla1.selfDriving()\n",
    "tesla1.drive()"
   ]
  },
  {
   "cell_type": "code",
   "execution_count": 11,
   "metadata": {},
   "outputs": [
    {
     "name": "stdout",
     "output_type": "stream",
     "text": [
      "buddy says woof \n",
      "The owner of this pet is Pratham\n"
     ]
    }
   ],
   "source": [
    "#multiple inheritance \n",
    "\n",
    "#when a class inherit from more than one classs\n",
    "\n",
    "#base class  1\n",
    "\n",
    "class Animal:\n",
    "  def __init__(self,name):\n",
    "    self.name = name \n",
    "\n",
    "  def speak(self):\n",
    "    print(\"Subclass should implememt this method \")\n",
    "\n",
    "#base class 2 \n",
    "\n",
    "class Pet:\n",
    "  def __init__(self , owner):\n",
    "    self.owner = owner \n",
    "\n",
    "  def own(self):\n",
    "    print(f\"The owner of this pet is {self.owner}\")\n",
    "\n",
    "\n",
    "#derived classs\n",
    "\n",
    "class Dog(Animal,Pet):\n",
    "  def __init__(self,name,owner ):\n",
    "    Animal.__init__(self,name)\n",
    "    Pet.__init__(self,owner)\n",
    "\n",
    "  def speak(self):\n",
    "    print(f\"{self.name } says woof \")\n",
    "\n",
    "\n",
    "\n",
    "#create a object \n",
    "\n",
    "dog = Dog(\"buddy\",\"Pratham\")\n",
    "\n",
    "dog.speak()\n",
    "dog.own()\n"
   ]
  },
  {
   "cell_type": "code",
   "execution_count": null,
   "metadata": {},
   "outputs": [],
   "source": []
  }
 ],
 "metadata": {
  "kernelspec": {
   "display_name": "Python 3",
   "language": "python",
   "name": "python3"
  },
  "language_info": {
   "codemirror_mode": {
    "name": "ipython",
    "version": 3
   },
   "file_extension": ".py",
   "mimetype": "text/x-python",
   "name": "python",
   "nbconvert_exporter": "python",
   "pygments_lexer": "ipython3",
   "version": "3.12.0"
  }
 },
 "nbformat": 4,
 "nbformat_minor": 2
}
