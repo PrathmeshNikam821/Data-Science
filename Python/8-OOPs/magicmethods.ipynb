{
 "cells": [
  {
   "cell_type": "code",
   "execution_count": null,
   "metadata": {},
   "outputs": [],
   "source": [
    "#dunder methods --> double underscore methods \n",
    "#this method enables to define the behaviour of objects for buit-in operations "
   ]
  },
  {
   "cell_type": "code",
   "execution_count": 1,
   "metadata": {},
   "outputs": [
    {
     "data": {
      "text/plain": [
       "['__class__',\n",
       " '__delattr__',\n",
       " '__dict__',\n",
       " '__dir__',\n",
       " '__doc__',\n",
       " '__eq__',\n",
       " '__format__',\n",
       " '__ge__',\n",
       " '__getattribute__',\n",
       " '__getstate__',\n",
       " '__gt__',\n",
       " '__hash__',\n",
       " '__init__',\n",
       " '__init_subclass__',\n",
       " '__le__',\n",
       " '__lt__',\n",
       " '__module__',\n",
       " '__ne__',\n",
       " '__new__',\n",
       " '__reduce__',\n",
       " '__reduce_ex__',\n",
       " '__repr__',\n",
       " '__setattr__',\n",
       " '__sizeof__',\n",
       " '__str__',\n",
       " '__subclasshook__',\n",
       " '__weakref__']"
      ]
     },
     "execution_count": 1,
     "metadata": {},
     "output_type": "execute_result"
    }
   ],
   "source": [
    "class Person:\n",
    "  pass\n",
    "#magic methods \n",
    "person = Person()\n",
    "dir(person)"
   ]
  },
  {
   "cell_type": "code",
   "execution_count": 2,
   "metadata": {},
   "outputs": [
    {
     "name": "stdout",
     "output_type": "stream",
     "text": [
      "<__main__.Person object at 0x0000020B6D8F0260>\n"
     ]
    }
   ],
   "source": [
    "print(person)"
   ]
  },
  {
   "cell_type": "code",
   "execution_count": 3,
   "metadata": {},
   "outputs": [
    {
     "data": {
      "text/plain": [
       "['__class__',\n",
       " '__delattr__',\n",
       " '__dict__',\n",
       " '__dir__',\n",
       " '__doc__',\n",
       " '__eq__',\n",
       " '__format__',\n",
       " '__ge__',\n",
       " '__getattribute__',\n",
       " '__getstate__',\n",
       " '__gt__',\n",
       " '__hash__',\n",
       " '__init__',\n",
       " '__init_subclass__',\n",
       " '__le__',\n",
       " '__lt__',\n",
       " '__module__',\n",
       " '__ne__',\n",
       " '__new__',\n",
       " '__reduce__',\n",
       " '__reduce_ex__',\n",
       " '__repr__',\n",
       " '__setattr__',\n",
       " '__sizeof__',\n",
       " '__str__',\n",
       " '__subclasshook__',\n",
       " '__weakref__',\n",
       " 'age',\n",
       " 'name']"
      ]
     },
     "execution_count": 3,
     "metadata": {},
     "output_type": "execute_result"
    }
   ],
   "source": [
    "#basic methods \n",
    "class Person:\n",
    "  def __init__(self , name ,age):\n",
    "    self.name = name \n",
    "    self.age = age \n",
    "\n",
    "person = Person(\"pratham \" , 23)\n",
    "\n",
    "dir(person)"
   ]
  },
  {
   "cell_type": "code",
   "execution_count": 8,
   "metadata": {},
   "outputs": [
    {
     "name": "stdout",
     "output_type": "stream",
     "text": [
      "  I am pratham  and age is 23\n",
      "  I am pratham  and age is 23\n"
     ]
    }
   ],
   "source": [
    "#basic methods \n",
    "class Person:\n",
    "  def __init__(self , name ,age):\n",
    "    self.name = name \n",
    "    self.age = age \n",
    "\n",
    "  def __str__(self):\n",
    "    return f\"  I am {self.name} and age is {self.age}\"\n",
    "person = Person(\"pratham \" , 23)\n",
    "\n",
    "dir(person)\n",
    "print(person)\n",
    "print(str(person))"
   ]
  },
  {
   "cell_type": "markdown",
   "metadata": {},
   "source": [
    "\n",
    "Operator Overlaoding "
   ]
  },
  {
   "cell_type": "code",
   "execution_count": null,
   "metadata": {},
   "outputs": [],
   "source": [
    "'''\n",
    "| Operator | Method                          | Description           |\n",
    "| -------- | ------------------------------- | --------------------- |\n",
    "| `+`      | `__add__(self, other)`          | Addition              |\n",
    "| `-`      | `__sub__(self, other)`          | Subtraction           |\n",
    "| `*`      | `__mul__(self, other)`          | Multiplication        |\n",
    "| `/`      | `__truediv__(self, other)`      | Division              |\n",
    "| `//`     | `__floordiv__(self, other)`     | Floor Division        |\n",
    "| `%`      | `__mod__(self, other)`          | Modulus               |\n",
    "| `**`     | `__pow__(self, other)`          | Power                 |\n",
    "| `==`     | `__eq__(self, other)`           | Equality              |\n",
    "| `!=`     | `__ne__(self, other)`           | Not Equal             |\n",
    "| `<`      | `__lt__(self, other)`           | Less Than             |\n",
    "| `<=`     | `__le__(self, other)`           | Less Than or Equal    |\n",
    "| `>`      | `__gt__(self, other)`           | Greater Than          |\n",
    "| `>=`     | `__ge__(self, other)`           | Greater Than or Equal |\n",
    "| `[]`     | `__getitem__(self, key)`        | Get item              |\n",
    "| `[]=`    | `__setitem__(self, key, value)` | Set item              |\n",
    "| `len()`  | `__len__(self)`                 | Length of object      |\n",
    "| `str()`  | `__str__(self)`                 | String representation |\n",
    "\n",
    "\n",
    "'''"
   ]
  },
  {
   "cell_type": "code",
   "execution_count": 13,
   "metadata": {},
   "outputs": [],
   "source": [
    "\n",
    "#magic methods for vector class \n",
    "class Vector:\n",
    "  def __init__(self , x , y):\n",
    "    self.x = x \n",
    "    self.y = y \n",
    "\n",
    "  def __add__(self , other):\n",
    "    return Vector(self.x + other.x , self.y + other.y)\n",
    "  \n",
    "  def __sub__(self , other):\n",
    "    return Vector(self.x - other.x , self.y - other.y)\n",
    "  \n",
    "  def __mul__(self , other):\n",
    "    return Vector(self.x * other.x , self.y * other.y)\n",
    "\n",
    "  def __eq__(self, other):\n",
    "    return self.x == other.x and self.y == other.y\n",
    "  \n",
    "  def __repr__(self):\n",
    "    return f\"Vector({self.x} , {self.y})\"\n",
    "\n",
    "  \n"
   ]
  },
  {
   "cell_type": "code",
   "execution_count": 17,
   "metadata": {},
   "outputs": [
    {
     "name": "stdout",
     "output_type": "stream",
     "text": [
      "Vector(22 , 23)\n",
      "Vector(2 , 3)\n",
      "Vector(-18 , -17)\n",
      "Vector(40 , 60)\n",
      "False\n"
     ]
    }
   ],
   "source": [
    " #create objects of vector class\n",
    "v1 = Vector(2,3)\n",
    "v2 = Vector(20,20)\n",
    "v3 = v1 + v2 \n",
    "print(v3)\n",
    "print(repr(v1))\n",
    "print(v1-v2)\n",
    "print(v1*v2)\n",
    "print(v1==v2)\n",
    "\n",
    "\n"
   ]
  },
  {
   "cell_type": "code",
   "execution_count": 18,
   "metadata": {},
   "outputs": [
    {
     "name": "stdout",
     "output_type": "stream",
     "text": [
      "4 + 6i\n",
      "Complex(1 , 2)\n"
     ]
    }
   ],
   "source": [
    "#overloading operators for complex numbers \n",
    "class Complex:\n",
    "  def __init__(self , real , imaginary):\n",
    "    self.real = real \n",
    "    self.imaginary = imaginary \n",
    "\n",
    "  def __add__(self , other):\n",
    "    return Complex(self.real + other.real , self.imaginary + other.imaginary)\n",
    "  \n",
    "  def __sub__(self , other):\n",
    "    return Complex(self.real - other.real , self.imaginary - other.imaginary)   \n",
    "  \n",
    "  def __mul__(self , other):\n",
    "    return Complex(self.real * other.real - self.imaginary * other.imaginary , self.real * other.imaginary + self.imaginary * other.real)\n",
    "  \n",
    "  def __eq__(self , other):\n",
    "    return self.real == other.real and self.imaginary == other.imaginary  \n",
    "  \n",
    "  def __repr__(self):\n",
    "    return f\"Complex({self.real} , {self.imaginary})\"\n",
    "  \n",
    "  def __str__(self):\n",
    "    return f\"{self.real} + {self.imaginary}i\" \n",
    "  \n",
    "  def __len__(self):\n",
    "    return self.real**2 + self.imaginary**2\n",
    "  \n",
    "  def __abs__(self):\n",
    "    return (self.real**2 + self.imaginary**2)**0.5          \n",
    "  \n",
    "#create objects of complex class\n",
    "c1 = Complex(1,2)\n",
    "c2 = Complex(3,4)\n",
    "c3 = c1 + c2 \n",
    "print(c3)\n",
    "print(repr(c1))\n",
    "\n"
   ]
  },
  {
   "cell_type": "code",
   "execution_count": null,
   "metadata": {},
   "outputs": [],
   "source": []
  }
 ],
 "metadata": {
  "kernelspec": {
   "display_name": "Python 3",
   "language": "python",
   "name": "python3"
  },
  "language_info": {
   "codemirror_mode": {
    "name": "ipython",
    "version": 3
   },
   "file_extension": ".py",
   "mimetype": "text/x-python",
   "name": "python",
   "nbconvert_exporter": "python",
   "pygments_lexer": "ipython3",
   "version": "3.12.0"
  }
 },
 "nbformat": 4,
 "nbformat_minor": 2
}
