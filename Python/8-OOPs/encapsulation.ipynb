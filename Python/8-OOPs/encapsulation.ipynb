{
 "cells": [
  {
   "cell_type": "code",
   "execution_count": 1,
   "metadata": {},
   "outputs": [],
   "source": [
    "#encapsulation is the concept of wrapping data (variables )   and methods (functions ) together as a single unit "
   ]
  },
  {
   "cell_type": "code",
   "execution_count": null,
   "metadata": {},
   "outputs": [
    {
     "name": "stdout",
     "output_type": "stream",
     "text": [
      "Pratham\n",
      "22\n"
     ]
    },
    {
     "data": {
      "text/plain": [
       "'Pratham'"
      ]
     },
     "execution_count": 8,
     "metadata": {},
     "output_type": "execute_result"
    }
   ],
   "source": [
    "#encapsulation with getter and setter \n",
    "#public , private , protected variable  or access modifiers \n",
    "\n",
    "class Person:\n",
    "  def __init__(self , name , age):\n",
    "    self.name = name #public variables\n",
    "    self.age = age #public variables\n",
    "  \n",
    "def get_name(person):\n",
    "  return person.name\n",
    "\n",
    "person = Person(\"Pratham\" , 22 )\n",
    "\n",
    "print(person.name)\n",
    "print(person.age)\n",
    "\n",
    "get_name(person)"
   ]
  },
  {
   "cell_type": "code",
   "execution_count": 5,
   "metadata": {},
   "outputs": [
    {
     "data": {
      "text/plain": [
       "['__class__',\n",
       " '__delattr__',\n",
       " '__dict__',\n",
       " '__dir__',\n",
       " '__doc__',\n",
       " '__eq__',\n",
       " '__format__',\n",
       " '__ge__',\n",
       " '__getattribute__',\n",
       " '__getstate__',\n",
       " '__gt__',\n",
       " '__hash__',\n",
       " '__init__',\n",
       " '__init_subclass__',\n",
       " '__le__',\n",
       " '__lt__',\n",
       " '__module__',\n",
       " '__ne__',\n",
       " '__new__',\n",
       " '__reduce__',\n",
       " '__reduce_ex__',\n",
       " '__repr__',\n",
       " '__setattr__',\n",
       " '__sizeof__',\n",
       " '__str__',\n",
       " '__subclasshook__',\n",
       " '__weakref__',\n",
       " 'age',\n",
       " 'name']"
      ]
     },
     "execution_count": 5,
     "metadata": {},
     "output_type": "execute_result"
    }
   ],
   "source": [
    "dir(person )"
   ]
  },
  {
   "cell_type": "code",
   "execution_count": null,
   "metadata": {},
   "outputs": [
    {
     "name": "stdout",
     "output_type": "stream",
     "text": [
      "22\n"
     ]
    }
   ],
   "source": [
    "#private : self.__name : cannot access outside class not even in dervied classes \n",
    "\n",
    "class Person:\n",
    "  def __init__(self , name , age ,student):\n",
    "    self.__name = name #private variables\n",
    "    self.__age = age #private variables\n",
    "\n",
    "    self.student = student #public variable \n",
    "  \n",
    "# def get_name(person):\n",
    "  # return person.name\n",
    "\n",
    "person = Person(\"Pratham\" , 22 ,True )\n",
    "\n",
    "dir(person)\n",
    "print(person._Person__age)\n",
    "# get_name(person)"
   ]
  },
  {
   "cell_type": "code",
   "execution_count": 24,
   "metadata": {},
   "outputs": [
    {
     "name": "stdout",
     "output_type": "stream",
     "text": [
      "['__class__', '__delattr__', '__dict__', '__dir__', '__doc__', '__eq__', '__format__', '__ge__', '__getattribute__', '__getstate__', '__gt__', '__hash__', '__init__', '__init_subclass__', '__le__', '__lt__', '__module__', '__ne__', '__new__', '__reduce__', '__reduce_ex__', '__repr__', '__setattr__', '__sizeof__', '__str__', '__subclasshook__', '__weakref__', '_age', '_gender', '_name']\n",
      "Pratham\n"
     ]
    }
   ],
   "source": [
    "#protected class : self._name  : cannot access outside class but can access derived classes \n",
    "\n",
    "\n",
    "class Person:\n",
    "  def __init__(self , name , age ,gender ):\n",
    "    self._name = name #protected variables\n",
    "    self._age = age #protected variables\n",
    "    self._gender = gender\n",
    "\n",
    "    # self.student = student #public variable \n",
    "\n",
    "\n",
    "class Employee(Person):\n",
    "  def __init__(self,name,age,gender):\n",
    "    super().__init__(name,age,gender)\n",
    "\n",
    "employee = Employee(\"Pratham\" , 22 , \"male\")\n",
    "\n",
    "print(dir(employee))\n",
    "\n",
    "print(employee._name)"
   ]
  },
  {
   "cell_type": "code",
   "execution_count": 28,
   "metadata": {},
   "outputs": [
    {
     "name": "stdout",
     "output_type": "stream",
     "text": [
      "Pratham\n",
      "22\n",
      "age cant be -ve \n",
      "4\n"
     ]
    }
   ],
   "source": [
    "#encapsulation with getter and setter \n",
    "class Person:\n",
    "  def __init__(self,name,age):\n",
    "    self.__name = name #private access modifier \n",
    "    self.__age = age \n",
    "\n",
    "\n",
    "  #getter method for name \n",
    "  def get_name(self):\n",
    "    return self.__name \n",
    "  \n",
    "\n",
    "  #getter method for age \n",
    "  def get_age(self):\n",
    "    return self.__age \n",
    "\n",
    "\n",
    "  #setter method for name \n",
    "  def set_name(self,name):\n",
    "    self.__name = name \n",
    "\n",
    "  #setter method for age\n",
    "\n",
    "  def set_age(self,age):\n",
    "    if age>0 :\n",
    "      self.__age = age\n",
    "    else:\n",
    "      print(\"age cant be -ve \")\n",
    "\n",
    "\n",
    "\n",
    "person = Person(\"Pratham\" , 22)\n",
    "\n",
    "print(person.get_name())\n",
    "print(person.get_age())\n",
    "\n",
    "person.set_age(-2)\n",
    "person.set_age(4)\n",
    "print(person.get_age())\n",
    "    \n",
    "\n",
    "   \n"
   ]
  },
  {
   "cell_type": "code",
   "execution_count": null,
   "metadata": {},
   "outputs": [],
   "source": []
  }
 ],
 "metadata": {
  "kernelspec": {
   "display_name": "Python 3",
   "language": "python",
   "name": "python3"
  },
  "language_info": {
   "codemirror_mode": {
    "name": "ipython",
    "version": 3
   },
   "file_extension": ".py",
   "mimetype": "text/x-python",
   "name": "python",
   "nbconvert_exporter": "python",
   "pygments_lexer": "ipython3",
   "version": "3.12.0"
  }
 },
 "nbformat": 4,
 "nbformat_minor": 2
}
