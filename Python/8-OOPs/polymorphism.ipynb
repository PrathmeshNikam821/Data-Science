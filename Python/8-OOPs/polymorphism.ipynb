{
 "cells": [
  {
   "cell_type": "code",
   "execution_count": 2,
   "metadata": {},
   "outputs": [],
   "source": [
    "#Polymorphism : \n",
    "\n",
    "#\"\"\" Allows objects of different classes to be trated as objects of a common superclass \"\"\""
   ]
  },
  {
   "cell_type": "code",
   "execution_count": 3,
   "metadata": {},
   "outputs": [],
   "source": [
    "#method overriding \n",
    "\n",
    "#allows a child class to provide  a specific implememtation of a method that is already defined \n",
    "#in its parent class \n",
    "\n"
   ]
  },
  {
   "cell_type": "code",
   "execution_count": 1,
   "metadata": {},
   "outputs": [
    {
     "name": "stdout",
     "output_type": "stream",
     "text": [
      "woof!\n",
      "meow ! \n"
     ]
    }
   ],
   "source": [
    "#base class \n",
    "class Animal:\n",
    "  def speak(self):\n",
    "    return \"Sound of the animal \"\n",
    "  \n",
    "\n",
    "#derived class 1 \n",
    "class Dog(Animal):\n",
    "  def speak(self):\n",
    "    return \"woof!\"\n",
    "  \n",
    "\n",
    "#derived class 2 \n",
    "\n",
    "class Cat(Animal):\n",
    "  def speak (self):\n",
    "   return \"meow ! \"\n",
    "\n",
    "dog = Dog()\n",
    "print(dog.speak())\n",
    "\n",
    "cat = Cat()\n",
    "print(cat.speak())"
   ]
  },
  {
   "cell_type": "code",
   "execution_count": 2,
   "metadata": {},
   "outputs": [
    {
     "name": "stdout",
     "output_type": "stream",
     "text": [
      "meow ! \n"
     ]
    }
   ],
   "source": [
    "#function that demonstrates polymorphism \n",
    "def animal_speak(Animal):\n",
    "  print(Animal.speak())\n",
    "\n",
    "animal_speak(cat)"
   ]
  },
  {
   "cell_type": "code",
   "execution_count": 8,
   "metadata": {},
   "outputs": [
    {
     "name": "stdout",
     "output_type": "stream",
     "text": [
      "the area is 20\n",
      "the area is 28.26\n"
     ]
    }
   ],
   "source": [
    "#polymorphism with functions and methods \n",
    "class Shape:\n",
    "  def area(self):\n",
    "    return \"the area of the figure \"\n",
    "  \n",
    "#derived class 1 \n",
    "\n",
    "class Rectangle(Shape):\n",
    "  def __init__(self,width,height):\n",
    "    self.width = width \n",
    "    self.height = height\n",
    "  \n",
    "  def area(self):\n",
    "    return self.width * self.height   \n",
    "  \n",
    "\n",
    "#derived class 2 \n",
    "\n",
    "class Circle(Shape):\n",
    "  def __init__(self , radius ):\n",
    "    self.radius = radius \n",
    "\n",
    "\n",
    "  def area(self):\n",
    "    return 3.14 * self.radius **2 \n",
    "  \n",
    "\n",
    "#function demonstrating polymorphism \n",
    "\n",
    "def print_area(Shape):\n",
    "  print(f\"the area is {Shape.area()}\")\n",
    "\n",
    "rectangle = Rectangle(4,5)\n",
    "\n",
    "circle = Circle(3)\n",
    "\n",
    "print_area(rectangle)\n",
    "print_area(circle)\n"
   ]
  },
  {
   "cell_type": "code",
   "execution_count": 1,
   "metadata": {},
   "outputs": [
    {
     "name": "stdout",
     "output_type": "stream",
     "text": [
      "Car engine started \n",
      "Motorcycle enginer started \n"
     ]
    }
   ],
   "source": [
    "#polymorphism with abstract base classes \n",
    "\n",
    "from abc import ABC,abstractmethod\n",
    "class Vehicle(ABC):\n",
    "  @abstractmethod\n",
    "  def start_engine(self):\n",
    "    pass\n",
    "\n",
    "#derived class 1 \n",
    "class Car(Vehicle):\n",
    "  def start_engine(self):\n",
    "    return \"Car engine started \"\n",
    "  \n",
    "\n",
    "#derived class 2 \n",
    "class Motorcycle(Vehicle):\n",
    "  def start_engine(self):\n",
    "    return \"Motorcycle enginer started \"\n",
    "\n",
    "def start_vehicle(vehicle):\n",
    "  print(vehicle.start_engine())\n",
    "\n",
    "\n",
    "#create object of car and motorcycle \n",
    "car1 = Car()\n",
    "\n",
    "motorcycle1 = Motorcycle()\n",
    "\n",
    "start_vehicle(car1)\n",
    "start_vehicle(motorcycle1)"
   ]
  },
  {
   "cell_type": "code",
   "execution_count": null,
   "metadata": {},
   "outputs": [],
   "source": []
  }
 ],
 "metadata": {
  "kernelspec": {
   "display_name": "Python 3",
   "language": "python",
   "name": "python3"
  },
  "language_info": {
   "codemirror_mode": {
    "name": "ipython",
    "version": 3
   },
   "file_extension": ".py",
   "mimetype": "text/x-python",
   "name": "python",
   "nbconvert_exporter": "python",
   "pygments_lexer": "ipython3",
   "version": "3.12.0"
  }
 },
 "nbformat": 4,
 "nbformat_minor": 2
}
