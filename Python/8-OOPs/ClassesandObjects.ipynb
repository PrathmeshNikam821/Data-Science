{
 "cells": [
  {
   "cell_type": "code",
   "execution_count": 3,
   "metadata": {},
   "outputs": [
    {
     "name": "stdout",
     "output_type": "stream",
     "text": [
      "<class '__main__.Car'>\n",
      "<class '__main__.Car'>\n"
     ]
    }
   ],
   "source": [
    "# class is a blueprint for creating objects , attributes , methods \n",
    "\n",
    "class Car:\n",
    "  pass\n",
    "\n",
    "audi=Car()\n",
    "bmw = Car()\n",
    "\n",
    "print(type(audi))\n",
    "print(type(bmw))"
   ]
  },
  {
   "cell_type": "code",
   "execution_count": 4,
   "metadata": {},
   "outputs": [
    {
     "name": "stdout",
     "output_type": "stream",
     "text": [
      "<__main__.Car object at 0x0000016814537230>\n",
      "<__main__.Car object at 0x00000168131B2B70>\n"
     ]
    }
   ],
   "source": [
    "print(audi)\n",
    "print(bmw)"
   ]
  },
  {
   "cell_type": "code",
   "execution_count": 5,
   "metadata": {},
   "outputs": [
    {
     "data": {
      "text/plain": [
       "['__class__',\n",
       " '__delattr__',\n",
       " '__dict__',\n",
       " '__dir__',\n",
       " '__doc__',\n",
       " '__eq__',\n",
       " '__format__',\n",
       " '__ge__',\n",
       " '__getattribute__',\n",
       " '__getstate__',\n",
       " '__gt__',\n",
       " '__hash__',\n",
       " '__init__',\n",
       " '__init_subclass__',\n",
       " '__le__',\n",
       " '__lt__',\n",
       " '__module__',\n",
       " '__ne__',\n",
       " '__new__',\n",
       " '__reduce__',\n",
       " '__reduce_ex__',\n",
       " '__repr__',\n",
       " '__setattr__',\n",
       " '__sizeof__',\n",
       " '__str__',\n",
       " '__subclasshook__',\n",
       " '__weakref__']"
      ]
     },
     "execution_count": 5,
     "metadata": {},
     "output_type": "execute_result"
    }
   ],
   "source": [
    "dir(bmw)"
   ]
  },
  {
   "cell_type": "code",
   "execution_count": 9,
   "metadata": {},
   "outputs": [
    {
     "name": "stdout",
     "output_type": "stream",
     "text": [
      "Buddy\n",
      "<__main__.Dog object at 0x0000016814719490>\n"
     ]
    }
   ],
   "source": [
    "class Dog:\n",
    "  #constructor\n",
    "  def __init__(self,name,age):\n",
    "    self.name = name\n",
    "    self.age = age\n",
    "\n",
    "\n",
    "#create objects \n",
    "dog1 = Dog(\"Buddy\",3)\n",
    "print(dog1.name)\n",
    "print(dog1)\n"
   ]
  },
  {
   "cell_type": "code",
   "execution_count": 10,
   "metadata": {},
   "outputs": [
    {
     "name": "stdout",
     "output_type": "stream",
     "text": [
      "jucy is barking \n"
     ]
    }
   ],
   "source": [
    "#define a class with instance method \n",
    "\n",
    "class Dog:\n",
    "  def __init__(self,name,age):\n",
    "    self.name = name \n",
    "    self.age = age \n",
    "\n",
    "  def bark(self):\n",
    "    print(f\"{self.name} is barking \")\n",
    "\n",
    "\n",
    "dog1 = Dog('jucy' , 4)\n",
    "\n",
    "dog1.bark()\n"
   ]
  },
  {
   "cell_type": "code",
   "execution_count": 11,
   "metadata": {},
   "outputs": [],
   "source": [
    "#modelling a bank account \n",
    "\n",
    "#define a class for bank acc\n",
    "class BankAccount:\n",
    "  def __init__(self,owner,balance=0):\n",
    "    self.owner = owner\n",
    "    self.balance = balance\n",
    "  \n",
    "  def deposite(self,amount):\n",
    "    self.balance+=amount\n",
    "    print(f\"{amount} is deposited. New balance is {self.balance}\")\n",
    "\n",
    "  \n",
    "  def withDraw(self,amount):\n",
    "    if self.balance-amount>=0:\n",
    "      self.balance-=amount\n",
    "      print(f\"{amount} has been deducted . Your current balance is {self.balance}\")\n",
    "\n",
    "    else:\n",
    "      print(f\" you did not have sufficient balance\")\n",
    "\n",
    "  def getBal(self):\n",
    "    print(f\"Balance is : {self.balance}\")"
   ]
  },
  {
   "cell_type": "code",
   "execution_count": 19,
   "metadata": {},
   "outputs": [
    {
     "name": "stdout",
     "output_type": "stream",
     "text": [
      "Balance is : 100000\n",
      "5000 has been deducted . Your current balance is 95000\n",
      "Balance is : 95000\n",
      " you did not have sufficient balance\n",
      "10000 is deposited. New balance is 105000\n",
      "50000 has been deducted . Your current balance is 55000\n"
     ]
    }
   ],
   "source": [
    "#create a bank acc\n",
    "\n",
    "account = BankAccount(\"pratham\" , 100000) \n",
    "account.getBal()\n",
    "\n",
    "account.withDraw(5000)\n",
    "account.getBal()\n",
    "account.withDraw(100000)\n",
    "account.deposite(10000)\n",
    "\n",
    "account.withDraw(50000)"
   ]
  },
  {
   "cell_type": "code",
   "execution_count": null,
   "metadata": {},
   "outputs": [],
   "source": []
  }
 ],
 "metadata": {
  "kernelspec": {
   "display_name": "Python 3",
   "language": "python",
   "name": "python3"
  },
  "language_info": {
   "codemirror_mode": {
    "name": "ipython",
    "version": 3
   },
   "file_extension": ".py",
   "mimetype": "text/x-python",
   "name": "python",
   "nbconvert_exporter": "python",
   "pygments_lexer": "ipython3",
   "version": "3.12.0"
  }
 },
 "nbformat": 4,
 "nbformat_minor": 2
}
