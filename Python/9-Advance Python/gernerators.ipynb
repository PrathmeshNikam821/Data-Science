{
 "cells": [
  {
   "cell_type": "code",
   "execution_count": null,
   "metadata": {},
   "outputs": [],
   "source": [
    "#generators : simple way to create itreators . do not store value in memory \n",
    "#In Python, a yield generator refers to a generator function—a special kind of function that uses the yield keyword to produce a sequence of values lazily, one at a time, instead of returning them all at once like with return.\n",
    "\n",
    "'''Memory Efficient: Doesn’t store the entire result in memory.\n",
    "\n",
    "Lazy Evaluation: Generates values one at a time as needed.\n",
    "\n",
    "Infinite Sequences: Useful for streams or infinite data sequences.'''"
   ]
  },
  {
   "cell_type": "code",
   "execution_count": 6,
   "metadata": {},
   "outputs": [],
   "source": [
    "#yield keyword \n",
    "\n",
    "def square(n):\n",
    "  for i in range(3):\n",
    "    yield i**2 "
   ]
  },
  {
   "cell_type": "code",
   "execution_count": 17,
   "metadata": {},
   "outputs": [],
   "source": [
    "a = square(3)"
   ]
  },
  {
   "cell_type": "code",
   "execution_count": 8,
   "metadata": {},
   "outputs": [
    {
     "name": "stdout",
     "output_type": "stream",
     "text": [
      "0\n",
      "1\n",
      "4\n"
     ]
    }
   ],
   "source": [
    "for i in square(3):\n",
    "  print(i)"
   ]
  },
  {
   "cell_type": "code",
   "execution_count": 10,
   "metadata": {},
   "outputs": [
    {
     "name": "stdout",
     "output_type": "stream",
     "text": [
      "0\n",
      "1\n",
      "4\n"
     ]
    }
   ],
   "source": [
    "for i in a : \n",
    "  print(i)"
   ]
  },
  {
   "cell_type": "code",
   "execution_count": 18,
   "metadata": {},
   "outputs": [
    {
     "data": {
      "text/plain": [
       "0"
      ]
     },
     "execution_count": 18,
     "metadata": {},
     "output_type": "execute_result"
    }
   ],
   "source": [
    "next(a)"
   ]
  },
  {
   "cell_type": "code",
   "execution_count": 19,
   "metadata": {},
   "outputs": [],
   "source": [
    "def myGenerator():\n",
    "  yield 1 \n",
    "  yield 2 \n",
    "  yield 3 "
   ]
  },
  {
   "cell_type": "code",
   "execution_count": 20,
   "metadata": {},
   "outputs": [
    {
     "name": "stdout",
     "output_type": "stream",
     "text": [
      "1\n",
      "2\n",
      "3\n"
     ]
    }
   ],
   "source": [
    "for i in myGenerator():\n",
    "  print(i)"
   ]
  },
  {
   "cell_type": "code",
   "execution_count": 22,
   "metadata": {},
   "outputs": [],
   "source": [
    "#reading large files using genrator \n",
    "\n",
    "def read_large_file(file_path):\n",
    "  with open(file_path,'r') as file:\n",
    "    for line in file:\n",
    "      yield line \n"
   ]
  },
  {
   "cell_type": "code",
   "execution_count": 23,
   "metadata": {},
   "outputs": [
    {
     "data": {
      "text/plain": [
       "<generator object read_large_file at 0x00000214A44A67A0>"
      ]
     },
     "execution_count": 23,
     "metadata": {},
     "output_type": "execute_result"
    }
   ],
   "source": [
    "file_path = 'large_file.txt'\n",
    "\n",
    "read_large_file(file_path)"
   ]
  },
  {
   "cell_type": "code",
   "execution_count": 24,
   "metadata": {},
   "outputs": [
    {
     "name": "stdout",
     "output_type": "stream",
     "text": [
      "n Python, a yield generator refers to a generator function—a special kind of function that uses the yield keyword to produce a sequence of values lazily, one at a time, instead of returning them all at once like with return.\n",
      "\n",
      "\n",
      "\n",
      "🔹 What is yield?\n",
      "\n",
      "yield is like return, but instead of exiting the function, it pauses the function and remembers its state for the next call.\n",
      "\n",
      "\n",
      "\n",
      "Each time the generator is called with next(), it resumes execution right after the last yield.\n",
      "\n",
      "\n",
      "\n",
      "🔹 Generator Function Example:\n",
      "\n",
      "python\n",
      "\n",
      "Copy\n",
      "\n",
      "Edit\n",
      "\n",
      "def count_up_to(max):\n",
      "\n",
      "    count = 1\n",
      "\n",
      "    while count <= max:\n",
      "\n",
      "        yield count\n",
      "\n",
      "        count += 1\n",
      "\n",
      "This function returns a generator object.\n",
      "\n",
      "\n",
      "\n",
      "You can iterate over it using a loop or the next() function.\n",
      "\n",
      "\n",
      "\n",
      "python\n",
      "\n",
      "Copy\n",
      "\n",
      "Edit\n",
      "\n",
      "counter = count_up_to(3)\n",
      "\n",
      "print(next(counter))  # Output: 1\n",
      "\n",
      "print(next(counter))  # Output: 2\n",
      "\n",
      "print(next(counter))  # Output: 3\n",
      "\n",
      "# next(counter) would raise StopIteration\n",
      "\n",
      "🔹 Benefits of Using yield:\n",
      "\n",
      "Memory Efficient: Doesn’t store the entire result in memory.\n",
      "\n",
      "\n",
      "\n",
      "Lazy Evaluation: Generates values one at a time as needed.\n",
      "\n",
      "\n",
      "\n",
      "Infinite Sequences: Useful for streams or infinite data sequences.\n",
      "\n",
      "\n",
      "\n",
      "🔹 Generator vs Normal Function\n",
      "\n",
      "Feature\tNormal Function (return)\tGenerator Function (yield)\n",
      "\n",
      "Returns\tSingle value or entire data\tOne value at a time\n",
      "\n",
      "Memory Usage\tHigh (stores all at once)\tLow (lazy evaluation)\n",
      "\n",
      "Can Resume Execution\t❌\t✅ (resumes from last yield)\n",
      "\n",
      "\n",
      "\n",
      "🔹 Practical Use Case\n",
      "\n",
      "python\n",
      "\n",
      "Copy\n",
      "\n",
      "Edit\n",
      "\n",
      "def read_large_file(file_path):\n",
      "\n",
      "    with open(file_path) as f:\n",
      "\n",
      "        for line in f:\n",
      "\n",
      "            yield line.strip()\n",
      "\n",
      "This allows you to process large files line by line without loading the whole file into memory.\n",
      "\n",
      "\n",
      "\n",
      "If you want a visual or memory diagram explanation, I can help with that too.\n",
      "\n",
      "\n",
      "\n",
      "\n",
      "\n",
      "\n",
      "\n",
      "\n",
      "\n",
      "\n",
      "\n",
      "\n",
      "\n",
      "\n",
      "\n",
      "\n",
      "\n",
      "\n",
      "\n",
      "\n",
      "\n",
      "\n",
      "\n",
      "\n",
      "\n",
      "\n",
      "\n",
      "\n",
      "\n",
      "\n",
      "\n",
      "\n",
      "\n",
      "\n",
      "\n",
      "\n",
      "\n"
     ]
    }
   ],
   "source": [
    "for i in read_large_file(file_path):\n",
    "  print(i)"
   ]
  },
  {
   "cell_type": "code",
   "execution_count": null,
   "metadata": {},
   "outputs": [],
   "source": []
  }
 ],
 "metadata": {
  "kernelspec": {
   "display_name": "Python 3",
   "language": "python",
   "name": "python3"
  },
  "language_info": {
   "codemirror_mode": {
    "name": "ipython",
    "version": 3
   },
   "file_extension": ".py",
   "mimetype": "text/x-python",
   "name": "python",
   "nbconvert_exporter": "python",
   "pygments_lexer": "ipython3",
   "version": "3.12.0"
  }
 },
 "nbformat": 4,
 "nbformat_minor": 2
}
