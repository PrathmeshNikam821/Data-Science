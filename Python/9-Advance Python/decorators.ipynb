{
 "cells": [
  {
   "cell_type": "code",
   "execution_count": 2,
   "metadata": {},
   "outputs": [],
   "source": [
    "# decorators\n",
    "'''\n",
    "Decorators are a powerful and elegant way to modify the behavior of a function or class without changing its source code. In simpler terms, decorators are functions that wrap another function, adding extra functionality before or after the original function runs.\n",
    "\n",
    "They are often used for:\n",
    "\n",
    "Logging\n",
    "\n",
    "Authorization\n",
    "\n",
    "Caching\n",
    "\n",
    "Timing function execution\n",
    "\n",
    "Modifying inputs/outputs\n",
    "\n",
    "\n",
    "\n",
    "\n",
    "'''\n"
   ]
  },
  {
   "cell_type": "code",
   "execution_count": 4,
   "metadata": {},
   "outputs": [
    {
     "data": {
      "text/plain": [
       "'welcome to the advance python coding '"
      ]
     },
     "execution_count": 4,
     "metadata": {},
     "output_type": "execute_result"
    }
   ],
   "source": [
    "'''\n",
    "Function copy: \n",
    "In Python, copying a function means creating a new reference (or sometimes a deep copy) of an existing function so that you can use it independently or modify it without affecting the original.\n",
    "\n",
    "\n",
    "'''\n",
    "\n",
    "\n",
    "def welcome():\n",
    "  return 'welcome to the advance python coding '\n",
    "\n",
    "\n",
    "welcome()"
   ]
  },
  {
   "cell_type": "code",
   "execution_count": 6,
   "metadata": {},
   "outputs": [
    {
     "data": {
      "text/plain": [
       "<function __main__.welcome()>"
      ]
     },
     "execution_count": 6,
     "metadata": {},
     "output_type": "execute_result"
    }
   ],
   "source": [
    "wel =welcome\n",
    "\n",
    "wel"
   ]
  },
  {
   "cell_type": "code",
   "execution_count": 7,
   "metadata": {},
   "outputs": [
    {
     "name": "stdout",
     "output_type": "stream",
     "text": [
      "welcome to the advance python coding \n"
     ]
    }
   ],
   "source": [
    "print(wel())"
   ]
  },
  {
   "cell_type": "code",
   "execution_count": 8,
   "metadata": {},
   "outputs": [],
   "source": [
    "del welcome"
   ]
  },
  {
   "cell_type": "code",
   "execution_count": 11,
   "metadata": {},
   "outputs": [
    {
     "data": {
      "text/plain": [
       "'welcome to the advance python coding '"
      ]
     },
     "execution_count": 11,
     "metadata": {},
     "output_type": "execute_result"
    }
   ],
   "source": [
    "wel()\n",
    "# welcome()"
   ]
  },
  {
   "cell_type": "code",
   "execution_count": null,
   "metadata": {},
   "outputs": [],
   "source": [
    "'''\n",
    "closures : \n",
    "A closure is a function object that remembers values in enclosing scopes even if those scopes are no longer present.\n",
    "\n",
    "In simple terms, a closure allows a nested function to access variables from its outer function even after the outer function has finished executing.\n",
    "\n",
    "\n",
    "'''"
   ]
  },
  {
   "cell_type": "code",
   "execution_count": 14,
   "metadata": {},
   "outputs": [],
   "source": [
    "def main_welcome():\n",
    "  msg = \"welcome\"\n",
    "  def sub_welcome():\n",
    "    print(\"Welcome to advance python ocurse \")\n",
    "    print(msg)\n",
    "  return sub_welcome()\n"
   ]
  },
  {
   "cell_type": "code",
   "execution_count": 15,
   "metadata": {},
   "outputs": [
    {
     "name": "stdout",
     "output_type": "stream",
     "text": [
      "Welcome to advance python ocurse \n",
      "welcome\n"
     ]
    }
   ],
   "source": [
    "main_welcome()"
   ]
  },
  {
   "cell_type": "code",
   "execution_count": 2,
   "metadata": {},
   "outputs": [],
   "source": [
    "def main_welcome(func):\n",
    "  \n",
    "  def sub_welcome():\n",
    "    print(\"Welcome to advance python ocurse \")\n",
    "    print(func())\n",
    "  return sub_welcome()"
   ]
  },
  {
   "cell_type": "code",
   "execution_count": 3,
   "metadata": {},
   "outputs": [
    {
     "name": "stdout",
     "output_type": "stream",
     "text": [
      "Welcome to advance python ocurse \n",
      "this is intro\n",
      "None\n"
     ]
    }
   ],
   "source": [
    "@main_welcome\n",
    "def course_Intro():\n",
    "  print(\"this is intro\")"
   ]
  },
  {
   "cell_type": "code",
   "execution_count": 4,
   "metadata": {},
   "outputs": [],
   "source": [
    "def my_decorator(func):\n",
    "  def wrapper():\n",
    "    print(\"something is happening before the func call\")\n",
    "    func()\n",
    "    print(\"something is happening after the func call\")\n",
    "  return wrapper"
   ]
  },
  {
   "cell_type": "markdown",
   "metadata": {},
   "source": [
    "\n"
   ]
  },
  {
   "cell_type": "code",
   "execution_count": 7,
   "metadata": {},
   "outputs": [],
   "source": [
    "@my_decorator\n",
    "def say_hello():\n",
    "  print(\"hello\")"
   ]
  },
  {
   "cell_type": "code",
   "execution_count": 8,
   "metadata": {},
   "outputs": [
    {
     "name": "stdout",
     "output_type": "stream",
     "text": [
      "something is happening before the func call\n",
      "hello\n",
      "something is happening after the func call\n"
     ]
    }
   ],
   "source": [
    "say_hello()"
   ]
  },
  {
   "cell_type": "code",
   "execution_count": null,
   "metadata": {},
   "outputs": [],
   "source": []
  }
 ],
 "metadata": {
  "kernelspec": {
   "display_name": "Python 3",
   "language": "python",
   "name": "python3"
  },
  "language_info": {
   "codemirror_mode": {
    "name": "ipython",
    "version": 3
   },
   "file_extension": ".py",
   "mimetype": "text/x-python",
   "name": "python",
   "nbconvert_exporter": "python",
   "pygments_lexer": "ipython3",
   "version": "3.12.0"
  }
 },
 "nbformat": 4,
 "nbformat_minor": 2
}
