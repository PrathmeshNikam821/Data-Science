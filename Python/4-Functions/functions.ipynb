{
 "cells": [
  {
   "cell_type": "markdown",
   "metadata": {},
   "source": [
    "## Functions "
   ]
  },
  {
   "cell_type": "markdown",
   "metadata": {},
   "source": [
    "#function is a block of code that performs a specific task . \n"
   ]
  },
  {
   "cell_type": "code",
   "execution_count": null,
   "metadata": {},
   "outputs": [],
   "source": [
    "\n",
    "#syntax\n",
    "def function_name(parameters):\n",
    "  \"\"\" Docstring\"\"\"\n",
    "  #function body \n",
    "\n",
    "  return expression "
   ]
  },
  {
   "cell_type": "code",
   "execution_count": 4,
   "metadata": {},
   "outputs": [
    {
     "name": "stdout",
     "output_type": "stream",
     "text": [
      "14 is a even number\n"
     ]
    }
   ],
   "source": [
    "#even or odd check function \n",
    "\n",
    "def even_or_odd(n):\n",
    "  \"\"\" This function return odd or even number \"\"\"\n",
    "  if n%2==0:\n",
    "    print(f\"{n} is a even number\")\n",
    "  else:\n",
    "    print(f\"{n} is a odd number\")\n",
    "\n",
    "#fucntion calling \n",
    "even_or_odd(14)"
   ]
  },
  {
   "cell_type": "code",
   "execution_count": 5,
   "metadata": {},
   "outputs": [
    {
     "name": "stdout",
     "output_type": "stream",
     "text": [
      "15 is a odd number\n"
     ]
    }
   ],
   "source": [
    "even_or_odd(15)"
   ]
  },
  {
   "cell_type": "code",
   "execution_count": 6,
   "metadata": {},
   "outputs": [
    {
     "name": "stdout",
     "output_type": "stream",
     "text": [
      "11\n"
     ]
    }
   ],
   "source": [
    "#fun with more parameters and return value\n",
    "\n",
    "def add(a,b):\n",
    "  return a+b\n",
    "\n",
    "\n",
    "print(add(5,6))"
   ]
  },
  {
   "cell_type": "code",
   "execution_count": 9,
   "metadata": {},
   "outputs": [
    {
     "name": "stdout",
     "output_type": "stream",
     "text": [
      " hello Guest , welcome here ! \n",
      " hello Pratham , welcome here ! \n"
     ]
    }
   ],
   "source": [
    "#default parameters \n",
    "def greet(name = \"Guest\"):\n",
    "  print(f\" hello {name} , welcome here ! \")\n",
    "\n",
    "greet()\n",
    "greet(\"Pratham\")"
   ]
  },
  {
   "cell_type": "code",
   "execution_count": null,
   "metadata": {},
   "outputs": [
    {
     "name": "stdout",
     "output_type": "stream",
     "text": [
      "1\n",
      "2\n",
      "3\n",
      "4\n",
      "5\n",
      "6\n",
      "7\n",
      "8\n",
      "9\n",
      "0\n",
      "Pratham\n",
      "True\n"
     ]
    }
   ],
   "source": [
    "#variable length arguments\n",
    "#positional arguments\n",
    "\n",
    "def print_num(*args):\n",
    "  for numbers in args:\n",
    "    print(numbers)\n",
    "\n",
    "\n",
    "print_num(1,2,3,4,5,6,7,8,9,0 ,\"Pratham\",True)"
   ]
  },
  {
   "cell_type": "code",
   "execution_count": 19,
   "metadata": {},
   "outputs": [
    {
     "name": "stdout",
     "output_type": "stream",
     "text": [
      "name:Pratham\n",
      "age:22\n",
      "country:India\n"
     ]
    }
   ],
   "source": [
    "#keyword arguments\n",
    "\n",
    "def print_details(**kwargs): # uses double *  --> key value pairs \n",
    "    for key,value in kwargs.items():\n",
    "        print(f\"{key}:{value}\")\n",
    "    \n",
    "\n",
    "print_details(name=\"Pratham\" , age =22 , country=\"India\")\n",
    "\n"
   ]
  },
  {
   "cell_type": "code",
   "execution_count": 23,
   "metadata": {},
   "outputs": [
    {
     "name": "stdout",
     "output_type": "stream",
     "text": [
      "keyword arguments\n",
      "name:pratham\n",
      "positional arguments\n",
      "1\n",
      "2\n",
      "3\n",
      "4\n",
      "5\n"
     ]
    }
   ],
   "source": [
    "#combining positional and keyword arguments \n",
    "def print_details_all(*args , **kwargs):\n",
    "  print(\"keyword arguments\")\n",
    "  for key,value in kwargs.items():\n",
    "    print(f\"{key}:{value}\")\n",
    "  \n",
    "\n",
    "  print(\"positional arguments\")\n",
    "  for key in args:\n",
    "    print(key)\n",
    "\n",
    "print_details_all(1,2,3,4,5,name=\"pratham\" )"
   ]
  },
  {
   "cell_type": "code",
   "execution_count": 25,
   "metadata": {},
   "outputs": [
    {
     "name": "stdout",
     "output_type": "stream",
     "text": [
      "(4, 5, 20)\n"
     ]
    }
   ],
   "source": [
    "#fun can return multiple values \n",
    "\n",
    "def mul(a,b):\n",
    "  return a , b, a*b\n",
    "\n",
    "print(mul(4,5))"
   ]
  },
  {
   "cell_type": "code",
   "execution_count": null,
   "metadata": {},
   "outputs": [],
   "source": []
  }
 ],
 "metadata": {
  "kernelspec": {
   "display_name": "Python 3",
   "language": "python",
   "name": "python3"
  },
  "language_info": {
   "codemirror_mode": {
    "name": "ipython",
    "version": 3
   },
   "file_extension": ".py",
   "mimetype": "text/x-python",
   "name": "python",
   "nbconvert_exporter": "python",
   "pygments_lexer": "ipython3",
   "version": "3.12.0"
  }
 },
 "nbformat": 4,
 "nbformat_minor": 2
}
