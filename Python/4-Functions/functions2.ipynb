{
 "cells": [
  {
   "cell_type": "markdown",
   "metadata": {},
   "source": [
    " temperature conversion "
   ]
  },
  {
   "cell_type": "code",
   "execution_count": 5,
   "metadata": {},
   "outputs": [
    {
     "name": "stdout",
     "output_type": "stream",
     "text": [
      "-9.444444444444445\n",
      "59.0\n",
      "None\n"
     ]
    }
   ],
   "source": [
    "def convert_temp(temp,unit):\n",
    "  if unit == 'C':\n",
    "    return temp * 9 / 5 +32 # celsius to Fahrenheit\n",
    "  elif unit == 'F':\n",
    "    return (temp-32) * 5/ 9 # Fahrenheit to celsius \n",
    "  else:\n",
    "    return None \n",
    "  \n",
    "\n",
    "print(convert_temp(15,'F'))\n",
    "print(convert_temp(15,'C'))\n",
    "print(convert_temp(15,'c'))\n",
    "  "
   ]
  },
  {
   "cell_type": "markdown",
   "metadata": {},
   "source": [
    " Password Strength Checker"
   ]
  },
  {
   "cell_type": "code",
   "execution_count": 7,
   "metadata": {},
   "outputs": [
    {
     "name": "stdout",
     "output_type": "stream",
     "text": [
      "False\n",
      "True\n"
     ]
    }
   ],
   "source": [
    "def is_Strong_Pass(password):\n",
    "  if len(password)<8:\n",
    "    return False\n",
    "  if not any(char.isdigit() for char in password):\n",
    "    return False \n",
    "  if not any( char.islower() for char in password):\n",
    "    return False\n",
    "  if not any(char.isupper() for char in password):\n",
    "    return False \n",
    "  if not any(char in '!@#$%^&*()_+' for char in password):\n",
    "    return False\n",
    "  \n",
    "  return True \n",
    "\n",
    "print(is_Strong_Pass(\"weakPass\"))\n",
    "print(is_Strong_Pass(\"1Strong@\"))"
   ]
  },
  {
   "cell_type": "markdown",
   "metadata": {},
   "source": [
    "Factorial using recursion "
   ]
  },
  {
   "cell_type": "code",
   "execution_count": null,
   "metadata": {},
   "outputs": [
    {
     "name": "stdout",
     "output_type": "stream",
     "text": [
      "120\n"
     ]
    }
   ],
   "source": [
    "def fact(n):\n",
    "  if(n == 0 ):\n",
    "    return 1 \n",
    "  return n*fact(n-1)\n",
    "\n",
    "print(fact(5))"
   ]
  },
  {
   "cell_type": "code",
   "execution_count": null,
   "metadata": {},
   "outputs": [],
   "source": []
  },
  {
   "cell_type": "code",
   "execution_count": null,
   "metadata": {},
   "outputs": [],
   "source": []
  },
  {
   "cell_type": "code",
   "execution_count": null,
   "metadata": {},
   "outputs": [],
   "source": []
  }
 ],
 "metadata": {
  "kernelspec": {
   "display_name": "Python 3",
   "language": "python",
   "name": "python3"
  },
  "language_info": {
   "codemirror_mode": {
    "name": "ipython",
    "version": 3
   },
   "file_extension": ".py",
   "mimetype": "text/x-python",
   "name": "python",
   "nbconvert_exporter": "python",
   "pygments_lexer": "ipython3",
   "version": "3.12.0"
  }
 },
 "nbformat": 4,
 "nbformat_minor": 2
}
