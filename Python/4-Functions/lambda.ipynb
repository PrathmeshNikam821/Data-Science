{
 "cells": [
  {
   "cell_type": "markdown",
   "metadata": {},
   "source": [
    "small anonymous functions define using lambda keyword. can have any number of args but only one exp. "
   ]
  },
  {
   "cell_type": "code",
   "execution_count": 1,
   "metadata": {},
   "outputs": [
    {
     "data": {
      "text/plain": [
       "<function __main__.<lambda>(arguments)>"
      ]
     },
     "execution_count": 1,
     "metadata": {},
     "output_type": "execute_result"
    }
   ],
   "source": [
    "#syntax\n",
    "\n",
    "lambda arguments : expression "
   ]
  },
  {
   "cell_type": "code",
   "execution_count": 6,
   "metadata": {},
   "outputs": [
    {
     "name": "stdout",
     "output_type": "stream",
     "text": [
      "<class 'function'>\n",
      "5\n"
     ]
    }
   ],
   "source": [
    "def add(a,b):\n",
    "  return a+b\n",
    "\n",
    "addition = lambda a,b : a+b\n",
    "\n",
    "print(type(addition))\n",
    "print(addition(2,3))"
   ]
  },
  {
   "cell_type": "code",
   "execution_count": 8,
   "metadata": {},
   "outputs": [
    {
     "name": "stdout",
     "output_type": "stream",
     "text": [
      "False\n"
     ]
    }
   ],
   "source": [
    "even = lambda num : num%2==0\n",
    "\n",
    "print(even(65))"
   ]
  },
  {
   "cell_type": "markdown",
   "metadata": {},
   "source": [
    "Map Function "
   ]
  },
  {
   "cell_type": "code",
   "execution_count": null,
   "metadata": {},
   "outputs": [
    {
     "name": "stdout",
     "output_type": "stream",
     "text": [
      "[1, 4, 9, 16, 25]\n"
     ]
    }
   ],
   "source": [
    "# map() --> applies a fun to all items in list\n",
    "#useful for transforming data in a list comrehensively \n",
    " \n",
    "\n",
    "numbers = [1,2,3,4,5]\n",
    "newlist = list(map(lambda x:x**2 , numbers))\n",
    "print(newlist)"
   ]
  },
  {
   "cell_type": "code",
   "execution_count": 13,
   "metadata": {},
   "outputs": [
    {
     "name": "stdout",
     "output_type": "stream",
     "text": [
      "[5, 7, 9]\n"
     ]
    }
   ],
   "source": [
    "#map multiple iterables \n",
    "\n",
    "numbers1 = [1,2,3]\n",
    "numbers2 = [4,5,6]\n",
    "added = list(map(lambda x,y: x+y , numbers1, numbers2))\n",
    "print(added)"
   ]
  },
  {
   "cell_type": "markdown",
   "metadata": {},
   "source": [
    "Filter "
   ]
  },
  {
   "cell_type": "code",
   "execution_count": 15,
   "metadata": {},
   "outputs": [
    {
     "name": "stdout",
     "output_type": "stream",
     "text": [
      "[2, 4, 6, 6, 8, 76, 56, 32]\n"
     ]
    }
   ],
   "source": [
    "#filter() fun constructs an iterator from elemnts of an iterable for which fun returns true   \n",
    "\n",
    "def even(num):\n",
    "  return num % 2 == 0 \n",
    "\n",
    "lst = [1,2,3,4,5,5,6,6,7,8,9,76,56,43,32,23]\n",
    "\n",
    "evenlist = list(filter(even , lst))\n",
    "print(evenlist)"
   ]
  },
  {
   "cell_type": "code",
   "execution_count": 16,
   "metadata": {},
   "outputs": [
    {
     "name": "stdout",
     "output_type": "stream",
     "text": [
      "[6, 6, 7, 8, 9, 76, 56, 43, 32, 23]\n"
     ]
    }
   ],
   "source": [
    "greater = list(filter(lambda x:x>5 , lst))\n",
    "print(greater)"
   ]
  },
  {
   "cell_type": "code",
   "execution_count": null,
   "metadata": {},
   "outputs": [],
   "source": []
  }
 ],
 "metadata": {
  "kernelspec": {
   "display_name": "Python 3",
   "language": "python",
   "name": "python3"
  },
  "language_info": {
   "codemirror_mode": {
    "name": "ipython",
    "version": 3
   },
   "file_extension": ".py",
   "mimetype": "text/x-python",
   "name": "python",
   "nbconvert_exporter": "python",
   "pygments_lexer": "ipython3",
   "version": "3.12.0"
  }
 },
 "nbformat": 4,
 "nbformat_minor": 2
}
