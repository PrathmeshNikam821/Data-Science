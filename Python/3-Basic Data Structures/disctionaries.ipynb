{
 "cells": [
  {
   "cell_type": "markdown",
   "metadata": {},
   "source": [
    "### Dictionaries"
   ]
  },
  {
   "cell_type": "markdown",
   "metadata": {},
   "source": []
  },
  {
   "cell_type": "code",
   "execution_count": 1,
   "metadata": {},
   "outputs": [],
   "source": [
    "#unorderd \n",
    "# store data in key value pair \n",
    "# keys must be unique and immutable "
   ]
  },
  {
   "cell_type": "code",
   "execution_count": 2,
   "metadata": {},
   "outputs": [
    {
     "name": "stdout",
     "output_type": "stream",
     "text": [
      "<class 'dict'>\n"
     ]
    }
   ],
   "source": [
    "#empty dict \n",
    "\n",
    "empty = {}\n",
    "print(type(empty))"
   ]
  },
  {
   "cell_type": "code",
   "execution_count": 4,
   "metadata": {},
   "outputs": [
    {
     "name": "stdout",
     "output_type": "stream",
     "text": [
      "<class 'dict'>\n",
      "{}\n"
     ]
    }
   ],
   "source": [
    "empty =dict()\n",
    "print(type(empty))\n",
    "print(empty)"
   ]
  },
  {
   "cell_type": "code",
   "execution_count": 6,
   "metadata": {},
   "outputs": [
    {
     "name": "stdout",
     "output_type": "stream",
     "text": [
      "{'name ': ' Pratham', 'age': 22, 'student': True}\n",
      "<class 'dict'>\n"
     ]
    }
   ],
   "source": [
    "student = { \"name \" : \" Pratham\" , \"age\": 22 , \"student\" : True }\n",
    "print(student)\n",
    "print(type(student))"
   ]
  },
  {
   "cell_type": "code",
   "execution_count": 9,
   "metadata": {},
   "outputs": [
    {
     "name": "stdout",
     "output_type": "stream",
     "text": [
      "{'name': 'hii', 'age': 22, 'student': True}\n"
     ]
    }
   ],
   "source": [
    "student = { \"name\" : \" Pratham\" , \"age\": 22 , \"student\" : True  , \"name\":\"hii\"} # value get replaced if there is reptition of key \n",
    "print(student)"
   ]
  },
  {
   "cell_type": "code",
   "execution_count": 17,
   "metadata": {},
   "outputs": [
    {
     "name": "stdout",
     "output_type": "stream",
     "text": [
      "True\n",
      " Pratham\n"
     ]
    }
   ],
   "source": [
    "#accessing dict elements \n",
    "student = { \"name\" : \" Pratham\" , \"age\": 22 , \"student\" : True }\n",
    "print(student['student'])\n",
    "print(student['name'])\n",
    "#print(student['last']) --> return error if key not present "
   ]
  },
  {
   "cell_type": "code",
   "execution_count": 18,
   "metadata": {},
   "outputs": [
    {
     "name": "stdout",
     "output_type": "stream",
     "text": [
      " Pratham\n",
      "None\n",
      "not available\n"
     ]
    }
   ],
   "source": [
    "#accessing using get() method \n",
    "print(student.get('name'))\n",
    "print(student.get('last')) # return none if key not present\n",
    "print(student.get('last','not available'))"
   ]
  },
  {
   "cell_type": "code",
   "execution_count": 20,
   "metadata": {},
   "outputs": [
    {
     "name": "stdout",
     "output_type": "stream",
     "text": [
      "{'name': ' Pratham', 'age': 22, 'student': True}\n"
     ]
    }
   ],
   "source": [
    "#modifying the dict\n",
    "#mutable , can add , update , delete elements \n",
    "print(student)"
   ]
  },
  {
   "cell_type": "code",
   "execution_count": null,
   "metadata": {},
   "outputs": [
    {
     "name": "stdout",
     "output_type": "stream",
     "text": [
      "{'name': ' Pratham', 'age': 34, 'student': True}\n",
      "{'name': ' Pratham', 'age': 34, 'student': True, 'address': 'india'}\n"
     ]
    }
   ],
   "source": [
    "student['age'] = 34 # update value \n",
    "print(student)\n",
    "student['address'] = 'india' # added new key value pair \n",
    "print(student)"
   ]
  },
  {
   "cell_type": "code",
   "execution_count": 23,
   "metadata": {},
   "outputs": [
    {
     "name": "stdout",
     "output_type": "stream",
     "text": [
      "{'name': ' Pratham', 'student': True, 'address': 'india'}\n"
     ]
    }
   ],
   "source": [
    "del student['age'] # delete key value pair  \n",
    "print(student)"
   ]
  },
  {
   "cell_type": "code",
   "execution_count": 25,
   "metadata": {},
   "outputs": [
    {
     "name": "stdout",
     "output_type": "stream",
     "text": [
      "dict_keys(['name', 'student', 'address'])\n",
      "dict_values([' Pratham', True, 'india'])\n"
     ]
    }
   ],
   "source": [
    "keys = student.keys()\n",
    "print(keys)\n",
    "values = student.values()\n",
    "print(values)"
   ]
  },
  {
   "cell_type": "code",
   "execution_count": 26,
   "metadata": {},
   "outputs": [
    {
     "name": "stdout",
     "output_type": "stream",
     "text": [
      "dict_items([('name', ' Pratham'), ('student', True), ('address', 'india')])\n"
     ]
    }
   ],
   "source": [
    "items = student.items() \n",
    "print(items)"
   ]
  },
  {
   "cell_type": "code",
   "execution_count": 27,
   "metadata": {},
   "outputs": [
    {
     "name": "stdout",
     "output_type": "stream",
     "text": [
      "{'name': ' Pratham', 'student': True, 'address': 'india'}\n",
      "{'name': ' Pratham', 'student': True, 'address': 'india'}\n"
     ]
    }
   ],
   "source": [
    "#shallow copy \n",
    "\n",
    "student_cpy = student\n",
    "print(student)\n",
    "print(student_cpy)"
   ]
  },
  {
   "cell_type": "code",
   "execution_count": 28,
   "metadata": {},
   "outputs": [
    {
     "name": "stdout",
     "output_type": "stream",
     "text": [
      "{'name': 'pratham21', 'student': True, 'address': 'india'}\n",
      "{'name': 'pratham21', 'student': True, 'address': 'india'}\n"
     ]
    }
   ],
   "source": [
    "student['name'] = 'pratham21'\n",
    "print(student)\n",
    "print(student_cpy)"
   ]
  },
  {
   "cell_type": "code",
   "execution_count": 29,
   "metadata": {},
   "outputs": [
    {
     "name": "stdout",
     "output_type": "stream",
     "text": [
      "{'name': 'pratham', 'student': True, 'address': 'india'}\n",
      "{'name': 'pratham', 'student': True, 'address': 'india'}\n"
     ]
    }
   ],
   "source": [
    "student_cpy['name'] = 'pratham'\n",
    "print(student)\n",
    "print(student_cpy)"
   ]
  },
  {
   "cell_type": "code",
   "execution_count": null,
   "metadata": {},
   "outputs": [
    {
     "name": "stdout",
     "output_type": "stream",
     "text": [
      "{'name': 'pratham21', 'student': True, 'address': 'india'}\n",
      "{'name': 'pratham', 'student': True, 'address': 'india'}\n"
     ]
    }
   ],
   "source": [
    "student_cpy2 = student.copy()\n",
    "student['name'] = 'pratham21'\n",
    "print(student)\n",
    "print(student_cpy2)"
   ]
  },
  {
   "cell_type": "code",
   "execution_count": null,
   "metadata": {},
   "outputs": [
    {
     "name": "stdout",
     "output_type": "stream",
     "text": [
      "name\n",
      "student\n",
      "address\n"
     ]
    }
   ],
   "source": [
    "#iterating over dict \n",
    "#iterate over keys \n",
    "for keys in student.keys():\n",
    "  print(keys)"
   ]
  },
  {
   "cell_type": "code",
   "execution_count": 32,
   "metadata": {},
   "outputs": [
    {
     "name": "stdout",
     "output_type": "stream",
     "text": [
      "pratham21\n",
      "True\n",
      "india\n"
     ]
    }
   ],
   "source": [
    "#iterate over values \n",
    "\n",
    "for values in student.values():\n",
    "  print(values)"
   ]
  },
  {
   "cell_type": "code",
   "execution_count": 33,
   "metadata": {},
   "outputs": [
    {
     "name": "stdout",
     "output_type": "stream",
     "text": [
      "('name', 'pratham21')\n",
      "('student', True)\n",
      "('address', 'india')\n"
     ]
    }
   ],
   "source": [
    "#iterate over items \n",
    "for items in student.items() :\n",
    "  print(items)"
   ]
  },
  {
   "cell_type": "code",
   "execution_count": 34,
   "metadata": {},
   "outputs": [
    {
     "name": "stdout",
     "output_type": "stream",
     "text": [
      "name:pratham21\n",
      "student:True\n",
      "address:india\n"
     ]
    }
   ],
   "source": [
    "#iterate over key value pairs \n",
    "for key,value in student.items() :\n",
    "  print(f\"{key}:{value}\")"
   ]
  },
  {
   "cell_type": "code",
   "execution_count": 35,
   "metadata": {},
   "outputs": [
    {
     "name": "stdout",
     "output_type": "stream",
     "text": [
      "{'student1': {'name': 'pratham', 'age': 22, 'address': 'satara'}, 'student2': {'name': 'anish', 'age': 23, 'address': 'pune'}, 'student3': {'name': 'umesh', 'age': 24, 'address': 'nagar'}}\n"
     ]
    }
   ],
   "source": [
    "#nested dicts \n",
    "\n",
    "students = {\n",
    "  \"student1\":{\n",
    "    'name':'pratham',\n",
    "    'age':22,\n",
    "    'address':'satara'\n",
    "  },\n",
    "  'student2':{\n",
    "    'name':'anish',\n",
    "    'age':23,\n",
    "    'address':'pune'\n",
    "  },\n",
    "  'student3':{\n",
    "    'name':'umesh',\n",
    "    'age':24,\n",
    "    'address':'nagar'\n",
    "  }\n",
    "}\n",
    "\n",
    "print(students)"
   ]
  },
  {
   "cell_type": "code",
   "execution_count": 36,
   "metadata": {},
   "outputs": [
    {
     "name": "stdout",
     "output_type": "stream",
     "text": [
      "pratham\n"
     ]
    }
   ],
   "source": [
    "#access nested dicts\n",
    "print(students['student1']['name'])"
   ]
  },
  {
   "cell_type": "code",
   "execution_count": 38,
   "metadata": {},
   "outputs": [
    {
     "name": "stdout",
     "output_type": "stream",
     "text": [
      "student1:{'name': 'pratham', 'age': 22, 'address': 'satara'}\n",
      "name:pratham\n",
      "age:22\n",
      "address:satara\n",
      "student2:{'name': 'anish', 'age': 23, 'address': 'pune'}\n",
      "name:anish\n",
      "age:23\n",
      "address:pune\n",
      "student3:{'name': 'umesh', 'age': 24, 'address': 'nagar'}\n",
      "name:umesh\n",
      "age:24\n",
      "address:nagar\n"
     ]
    }
   ],
   "source": [
    "#iterating nested dicts \n",
    "for student_id , student_info in students.items():\n",
    "  print(f\"{student_id}:{student_info}\")\n",
    "  for key,value in student_info.items():\n",
    "    print(f\"{key}:{value}\")"
   ]
  },
  {
   "cell_type": "code",
   "execution_count": 39,
   "metadata": {},
   "outputs": [
    {
     "name": "stdout",
     "output_type": "stream",
     "text": [
      "{0: 0, 1: 1, 2: 4, 3: 9, 4: 16, 5: 25}\n"
     ]
    }
   ],
   "source": [
    "#dict comprehension \n",
    "squares =  {x:x**2 for x in range(6)}\n",
    "print(squares)"
   ]
  },
  {
   "cell_type": "code",
   "execution_count": 41,
   "metadata": {},
   "outputs": [
    {
     "name": "stdout",
     "output_type": "stream",
     "text": [
      "{0: 0, 2: 4, 4: 16, 6: 36, 8: 64}\n",
      "{1: 1, 3: 9, 5: 25, 7: 49, 9: 81}\n"
     ]
    }
   ],
   "source": [
    "#conditional dict comprehension \n",
    "evens = {x:x**2 for x in range(10) if x%2==0 }\n",
    "print(evens)\n",
    "odds = {x:x**2 for x in range(10) if x%2!=0}\n",
    "print(odds)"
   ]
  },
  {
   "cell_type": "code",
   "execution_count": 42,
   "metadata": {},
   "outputs": [
    {
     "name": "stdout",
     "output_type": "stream",
     "text": [
      "{1: 5, 11: 1, 2: 2, 3: 4, 4: 1, 53: 1, 6: 3, 5: 3, 65: 2}\n"
     ]
    }
   ],
   "source": [
    "#use a dict to count frequency of elements in list \n",
    "\n",
    "numbers = [1,1,1,11,1,2,3,4,53,3,3,2,3,1,6,5,65,6,5,6,5,65]\n",
    "frequency = {}\n",
    "\n",
    "for number in numbers : \n",
    "  if number in frequency:\n",
    "    frequency[number]+=1\n",
    "  else:\n",
    "    frequency[number]=1\n",
    "\n",
    "\n",
    "print(frequency)"
   ]
  },
  {
   "cell_type": "code",
   "execution_count": 44,
   "metadata": {},
   "outputs": [
    {
     "name": "stdout",
     "output_type": "stream",
     "text": [
      "{1: 'a', 2: 'c', 3: 'c', 4: 'd'}\n"
     ]
    }
   ],
   "source": [
    "#merge 2 dicts \n",
    "dict1 = {1:'a',2:'b'}\n",
    "dict2 = {3:'c' , 1:'a' , 4:'d' , 2:'c'}\n",
    "merge = {**dict1, **dict2}\n",
    "print(merge)\n"
   ]
  },
  {
   "cell_type": "code",
   "execution_count": null,
   "metadata": {},
   "outputs": [],
   "source": []
  },
  {
   "cell_type": "code",
   "execution_count": null,
   "metadata": {},
   "outputs": [],
   "source": []
  }
 ],
 "metadata": {
  "kernelspec": {
   "display_name": "Python 3",
   "language": "python",
   "name": "python3"
  },
  "language_info": {
   "codemirror_mode": {
    "name": "ipython",
    "version": 3
   },
   "file_extension": ".py",
   "mimetype": "text/x-python",
   "name": "python",
   "nbconvert_exporter": "python",
   "pygments_lexer": "ipython3",
   "version": "3.12.0"
  }
 },
 "nbformat": 4,
 "nbformat_minor": 2
}
