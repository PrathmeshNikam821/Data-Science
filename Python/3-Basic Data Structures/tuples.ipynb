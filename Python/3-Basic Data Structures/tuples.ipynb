{
 "cells": [
  {
   "cell_type": "markdown",
   "metadata": {},
   "source": [
    "### tuples\n",
    "\n",
    "tuples are immutable , heterogeneous data types "
   ]
  },
  {
   "cell_type": "code",
   "execution_count": 1,
   "metadata": {},
   "outputs": [
    {
     "name": "stdout",
     "output_type": "stream",
     "text": [
      "()\n",
      "<class 'tuple'>\n"
     ]
    }
   ],
   "source": [
    "empty_tuple= () \n",
    "print(empty_tuple)\n",
    "print(type(empty_tuple))"
   ]
  },
  {
   "cell_type": "code",
   "execution_count": 2,
   "metadata": {},
   "outputs": [
    {
     "name": "stdout",
     "output_type": "stream",
     "text": [
      "<class 'list'>\n",
      "<class 'tuple'>\n"
     ]
    }
   ],
   "source": [
    "lst = list()\n",
    "print(type(lst))\n",
    "tup = tuple()\n",
    "print(type(tup))"
   ]
  },
  {
   "cell_type": "code",
   "execution_count": 3,
   "metadata": {},
   "outputs": [
    {
     "name": "stdout",
     "output_type": "stream",
     "text": [
      "(1, 2, 3, 4, 5)\n"
     ]
    }
   ],
   "source": [
    "numbers=tuple([1,2,3,4,5])\n",
    "print(numbers)"
   ]
  },
  {
   "cell_type": "code",
   "execution_count": 4,
   "metadata": {},
   "outputs": [
    {
     "name": "stdout",
     "output_type": "stream",
     "text": [
      "(1, 'hii ', (3+4j))\n"
     ]
    }
   ],
   "source": [
    "mix = (1 , \"hii \" , 3 + 4j )\n",
    "print(mix)"
   ]
  },
  {
   "cell_type": "code",
   "execution_count": 5,
   "metadata": {},
   "outputs": [
    {
     "name": "stdout",
     "output_type": "stream",
     "text": [
      "1\n",
      "hii \n"
     ]
    }
   ],
   "source": [
    "# allow idexing \n",
    "\n",
    "print(mix[0])\n",
    "print(mix[1])"
   ]
  },
  {
   "cell_type": "code",
   "execution_count": 6,
   "metadata": {},
   "outputs": [
    {
     "name": "stdout",
     "output_type": "stream",
     "text": [
      "(5, 4, 3, 2, 1)\n"
     ]
    }
   ],
   "source": [
    "print(numbers[::-1])"
   ]
  },
  {
   "cell_type": "code",
   "execution_count": 7,
   "metadata": {},
   "outputs": [
    {
     "name": "stdout",
     "output_type": "stream",
     "text": [
      "(1, 2, 3, 4, 5, 1, 'hii ', (3+4j))\n"
     ]
    }
   ],
   "source": [
    "concat = numbers + mix\n",
    "print(concat)"
   ]
  },
  {
   "cell_type": "code",
   "execution_count": 10,
   "metadata": {},
   "outputs": [
    {
     "name": "stdout",
     "output_type": "stream",
     "text": [
      "(1, 2, 3, 4, 5, 1, 'hii ', (3+4j), 1, 2, 3, 4, 5, 1, 'hii ', (3+4j), 1, 2, 3, 4, 5, 1, 'hii ', (3+4j), 1, 2, 3, 4, 5, 1, 'hii ', (3+4j), 1, 2, 3, 4, 5, 1, 'hii ', (3+4j), 1, 2, 3, 4, 5, 1, 'hii ', (3+4j), 1, 2, 3, 4, 5, 1, 'hii ', (3+4j), 1, 2, 3, 4, 5, 1, 'hii ', (3+4j), 1, 2, 3, 4, 5, 1, 'hii ', (3+4j))\n",
      "(1, 2, 3, 4, 5, 1, 'hii ', (3+4j), 1, 2, 3, 4, 5, 1, 'hii ', (3+4j), 1, 2, 3, 4, 5, 1, 'hii ', (3+4j))\n"
     ]
    }
   ],
   "source": [
    "print(concat*3)\n",
    "print(concat)"
   ]
  },
  {
   "cell_type": "code",
   "execution_count": 11,
   "metadata": {},
   "outputs": [
    {
     "name": "stdout",
     "output_type": "stream",
     "text": [
      "(1, 2, 3, 4, 5, 1, 'hii ', (3+4j), 1, 2, 3, 4, 5, 1, 'hii ', (3+4j), 1, 2, 3, 4, 5, 1, 'hii ', (3+4j), 1, 2, 3, 4, 5, 1, 'hii ', (3+4j), 1, 2, 3, 4, 5, 1, 'hii ', (3+4j), 1, 2, 3, 4, 5, 1, 'hii ', (3+4j), 1, 2, 3, 4, 5, 1, 'hii ', (3+4j), 1, 2, 3, 4, 5, 1, 'hii ', (3+4j), 1, 2, 3, 4, 5, 1, 'hii ', (3+4j))\n"
     ]
    }
   ],
   "source": [
    "concat = concat *3 \n",
    "print(concat)"
   ]
  },
  {
   "cell_type": "code",
   "execution_count": null,
   "metadata": {},
   "outputs": [
    {
     "name": "stdout",
     "output_type": "stream",
     "text": [
      "18\n"
     ]
    }
   ],
   "source": [
    "print(concat.count(1)) # return count "
   ]
  },
  {
   "cell_type": "code",
   "execution_count": 18,
   "metadata": {},
   "outputs": [
    {
     "name": "stdout",
     "output_type": "stream",
     "text": [
      "0\n"
     ]
    }
   ],
   "source": [
    "print(concat.index(1)) # return first index"
   ]
  },
  {
   "cell_type": "code",
   "execution_count": 19,
   "metadata": {},
   "outputs": [
    {
     "name": "stdout",
     "output_type": "stream",
     "text": [
      "(1, 3, 'hello')\n",
      "<class 'tuple'>\n"
     ]
    }
   ],
   "source": [
    "# pack and unpacked tuple \n",
    "pack = 1 ,3 , \"hello\"\n",
    "print(pack)\n",
    "print(type(pack))"
   ]
  },
  {
   "cell_type": "code",
   "execution_count": 20,
   "metadata": {},
   "outputs": [
    {
     "name": "stdout",
     "output_type": "stream",
     "text": [
      "1\n",
      "3\n",
      "hello\n"
     ]
    }
   ],
   "source": [
    "# unpacking tuple\n",
    "a,b,c = pack \n",
    "print(a)\n",
    "print(b)\n",
    "print(c)"
   ]
  },
  {
   "cell_type": "code",
   "execution_count": 22,
   "metadata": {},
   "outputs": [
    {
     "name": "stdout",
     "output_type": "stream",
     "text": [
      "1\n",
      "[2, 3, 4, 5, 6]\n",
      "7\n"
     ]
    }
   ],
   "source": [
    "#unpacking with * \n",
    "numbers = (1,2,3,4,5,6,7)\n",
    "first , *middle , last = numbers\n",
    "print(first)\n",
    "print(middle)\n",
    "print(last)"
   ]
  },
  {
   "cell_type": "code",
   "execution_count": null,
   "metadata": {},
   "outputs": [
    {
     "name": "stdout",
     "output_type": "stream",
     "text": [
      "[[1, 2, 3], [3, 4, 5], ['a ', 'b ']]\n",
      "[1, 2, 3]\n",
      "2\n"
     ]
    }
   ],
   "source": [
    "# nested list\n",
    "\n",
    "lst = [[1,2,3] , [3,4,5], [\"a \" , 'b ' ]]\n",
    "print(lst)\n",
    "print(lst[0])\n",
    "print(lst[0][1])"
   ]
  },
  {
   "cell_type": "code",
   "execution_count": 26,
   "metadata": {},
   "outputs": [
    {
     "name": "stdout",
     "output_type": "stream",
     "text": [
      "((1, 2, 3), ('hi', 'a '), (4, 5, 6, 7, 8))\n",
      "('hi', 'a ')\n"
     ]
    }
   ],
   "source": [
    "# nested tuple \n",
    "\n",
    "tup = ((1,2,3) , ('hi' , 'a ') , ( 4,5,6,7,8))\n",
    "print(tup)\n",
    "print(tup[1])"
   ]
  },
  {
   "cell_type": "code",
   "execution_count": 28,
   "metadata": {},
   "outputs": [
    {
     "name": "stdout",
     "output_type": "stream",
     "text": [
      "1   2   3   hi   a    4   5   6   7   8   "
     ]
    }
   ],
   "source": [
    "for sub in tup : \n",
    "  for item in sub:\n",
    "    print(item , end = \"   \")"
   ]
  },
  {
   "cell_type": "code",
   "execution_count": null,
   "metadata": {},
   "outputs": [],
   "source": []
  }
 ],
 "metadata": {
  "kernelspec": {
   "display_name": "Python 3",
   "language": "python",
   "name": "python3"
  },
  "language_info": {
   "codemirror_mode": {
    "name": "ipython",
    "version": 3
   },
   "file_extension": ".py",
   "mimetype": "text/x-python",
   "name": "python",
   "nbconvert_exporter": "python",
   "pygments_lexer": "ipython3",
   "version": "3.12.0"
  }
 },
 "nbformat": 4,
 "nbformat_minor": 2
}
