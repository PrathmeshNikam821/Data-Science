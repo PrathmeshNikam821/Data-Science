{
 "cells": [
  {
   "cell_type": "markdown",
   "metadata": {},
   "source": [
    "store collection of unique items \n",
    "unordered , no indexing \n",
    "no duplicates \n"
   ]
  },
  {
   "cell_type": "code",
   "execution_count": 1,
   "metadata": {},
   "outputs": [
    {
     "name": "stdout",
     "output_type": "stream",
     "text": [
      "{1, 2, 3, 4}\n",
      "<class 'set'>\n"
     ]
    }
   ],
   "source": [
    "# set\n",
    "myset = { 1,2,3,4}\n",
    "print(myset)\n",
    "print(type(myset))"
   ]
  },
  {
   "cell_type": "code",
   "execution_count": 3,
   "metadata": {},
   "outputs": [
    {
     "name": "stdout",
     "output_type": "stream",
     "text": [
      "<class 'set'>\n"
     ]
    }
   ],
   "source": [
    "empty = set()\n",
    "print(type(empty))"
   ]
  },
  {
   "cell_type": "code",
   "execution_count": 4,
   "metadata": {},
   "outputs": [
    {
     "name": "stdout",
     "output_type": "stream",
     "text": [
      "{1, 2, 3, 23}\n"
     ]
    }
   ],
   "source": [
    "num = {1,1,1,1,2,2,2,2,23,3,3,3}\n",
    "print(num)"
   ]
  },
  {
   "cell_type": "code",
   "execution_count": null,
   "metadata": {},
   "outputs": [
    {
     "name": "stdout",
     "output_type": "stream",
     "text": [
      "{1, 2, 3, 4, 23}\n",
      "{1, 2, 4, 23}\n"
     ]
    }
   ],
   "source": [
    "#Basic set operations \n",
    "#adding and removing elements \n",
    "num.add(4)\n",
    "print(num)\n",
    "# num.add(3)\n",
    "num.remove(3)\n",
    "print(num)"
   ]
  },
  {
   "cell_type": "code",
   "execution_count": 10,
   "metadata": {},
   "outputs": [],
   "source": [
    "num.discard(35) # does not give error if elemet not present otherwise remove the element"
   ]
  },
  {
   "cell_type": "code",
   "execution_count": 11,
   "metadata": {},
   "outputs": [
    {
     "name": "stdout",
     "output_type": "stream",
     "text": [
      "1\n",
      "{2, 4, 23}\n"
     ]
    }
   ],
   "source": [
    "remove = num.pop()\n",
    "print(remove)\n",
    "print(num)"
   ]
  },
  {
   "cell_type": "code",
   "execution_count": 12,
   "metadata": {},
   "outputs": [
    {
     "name": "stdout",
     "output_type": "stream",
     "text": [
      "set()\n"
     ]
    }
   ],
   "source": [
    "# clear all the elements from set \n",
    "\n",
    "myset.clear()\n",
    "print(myset)"
   ]
  },
  {
   "cell_type": "code",
   "execution_count": 15,
   "metadata": {},
   "outputs": [
    {
     "name": "stdout",
     "output_type": "stream",
     "text": [
      "{1, 2, 3, 4, 5, 6, 7, 8, 9}\n",
      "True\n",
      "False\n"
     ]
    }
   ],
   "source": [
    "# set memebership test\n",
    "num = set([1,2,3,4,5,6,7,8,9])\n",
    "print(num)\n",
    "\n",
    "print(2 in num)\n",
    "print(10 in num)"
   ]
  },
  {
   "cell_type": "code",
   "execution_count": 16,
   "metadata": {},
   "outputs": [
    {
     "name": "stdout",
     "output_type": "stream",
     "text": [
      "{1, 2, 3, 4, 5, 6, 7, 8, 9}\n"
     ]
    }
   ],
   "source": [
    "# mathematical operations \n",
    "set1 = {1,2,3,4,5,6}\n",
    "set2 = {4,5,6,7,8,9}\n",
    "\n",
    "#union\n",
    "union_set = set1.union(set2)\n",
    "print(union_set)"
   ]
  },
  {
   "cell_type": "code",
   "execution_count": 18,
   "metadata": {},
   "outputs": [
    {
     "name": "stdout",
     "output_type": "stream",
     "text": [
      "{4, 5, 6}\n"
     ]
    }
   ],
   "source": [
    "#intersetion \n",
    "\n",
    "intersect = set1.intersection(set2)\n",
    "print(intersect)"
   ]
  },
  {
   "cell_type": "code",
   "execution_count": 19,
   "metadata": {},
   "outputs": [
    {
     "name": "stdout",
     "output_type": "stream",
     "text": [
      "{4, 5, 6}\n"
     ]
    }
   ],
   "source": [
    "set1.intersection_update(set2)\n",
    "print(set1)"
   ]
  },
  {
   "cell_type": "code",
   "execution_count": 21,
   "metadata": {},
   "outputs": [
    {
     "name": "stdout",
     "output_type": "stream",
     "text": [
      "{1, 2, 3}\n",
      "{8, 9, 7}\n"
     ]
    }
   ],
   "source": [
    "set1 = {1,2,3,4,5,6}\n",
    "set2 = {4,5,6,7,8,9}\n",
    "\n",
    "#differnce\n",
    "\n",
    "print(set1.difference(set2))\n",
    "print(set2.difference(set1))"
   ]
  },
  {
   "cell_type": "code",
   "execution_count": 23,
   "metadata": {},
   "outputs": [
    {
     "name": "stdout",
     "output_type": "stream",
     "text": [
      "{1, 2, 3, 7, 8, 9}\n",
      "{1, 2, 3, 7, 8, 9}\n"
     ]
    }
   ],
   "source": [
    "#symmetric diff\n",
    "print(set1.symmetric_difference(set2))\n",
    "print(set2.symmetric_difference(set1))"
   ]
  },
  {
   "cell_type": "code",
   "execution_count": 29,
   "metadata": {},
   "outputs": [
    {
     "name": "stdout",
     "output_type": "stream",
     "text": [
      "False\n",
      "True\n"
     ]
    }
   ],
   "source": [
    "# sets methods \n",
    "set1 = {1,2,3 ,4,5}\n",
    "set2 = {3,4,5}\n",
    "print(set1.issubset(set2))\n",
    "print(set1.issuperset(set2))"
   ]
  },
  {
   "cell_type": "code",
   "execution_count": 33,
   "metadata": {},
   "outputs": [
    {
     "name": "stdout",
     "output_type": "stream",
     "text": [
      "{'tutorial', 'sets', 'In', 'i', 'learn', 'this', 'am', 'about', 'going', 'to'}\n",
      "10\n"
     ]
    }
   ],
   "source": [
    "# counting unique elements in string \n",
    "\n",
    "text = \" In this tutorial i am going to learn about sets \"\n",
    "words = text.split()\n",
    "sets = set(words)\n",
    "print(sets)\n",
    "print(len(sets))"
   ]
  },
  {
   "cell_type": "code",
   "execution_count": null,
   "metadata": {},
   "outputs": [],
   "source": []
  }
 ],
 "metadata": {
  "kernelspec": {
   "display_name": "Python 3",
   "language": "python",
   "name": "python3"
  },
  "language_info": {
   "codemirror_mode": {
    "name": "ipython",
    "version": 3
   },
   "file_extension": ".py",
   "mimetype": "text/x-python",
   "name": "python",
   "nbconvert_exporter": "python",
   "pygments_lexer": "ipython3",
   "version": "3.12.0"
  }
 },
 "nbformat": 4,
 "nbformat_minor": 2
}
