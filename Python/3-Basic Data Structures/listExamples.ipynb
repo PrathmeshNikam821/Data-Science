{
 "cells": [
  {
   "cell_type": "code",
   "execution_count": null,
   "metadata": {},
   "outputs": [],
   "source": []
  },
  {
   "cell_type": "markdown",
   "metadata": {},
   "source": [
    "create a to do list to keep track of tasks "
   ]
  },
  {
   "cell_type": "code",
   "execution_count": null,
   "metadata": {},
   "outputs": [],
   "source": [
    "to_do_list = [\"buy groceries \" , \"clean the house \" , \"Pay bills \"]\n",
    "\n",
    "#adding a task \n",
    "to_do_list.append(\"Schedule a meeting \")"
   ]
  },
  {
   "cell_type": "code",
   "execution_count": 2,
   "metadata": {},
   "outputs": [
    {
     "name": "stdout",
     "output_type": "stream",
     "text": [
      "Dont forgot to pay utility bills \n",
      "To do list remaining \n",
      "-buy groceries \n",
      "-Pay bills \n",
      "-Schedule a meeting \n",
      "-Go for run \n"
     ]
    }
   ],
   "source": [
    "to_do_list.append(\"Go for run \")\n",
    "\n",
    "#removing a task \n",
    "to_do_list.remove(\"clean the house \")\n",
    "\n",
    "#checking if  a task is present in a list or not \n",
    "if \"Pay bills \" in to_do_list:\n",
    "  print(\"Dont forgot to pay utility bills \")\n",
    "\n",
    "\n",
    "print(\"To do list remaining \")\n",
    "for task in to_do_list:\n",
    "  print(f\"-{task}\")\n"
   ]
  },
  {
   "cell_type": "code",
   "execution_count": null,
   "metadata": {},
   "outputs": [],
   "source": []
  }
 ],
 "metadata": {
  "kernelspec": {
   "display_name": "Python 3",
   "language": "python",
   "name": "python3"
  },
  "language_info": {
   "codemirror_mode": {
    "name": "ipython",
    "version": 3
   },
   "file_extension": ".py",
   "mimetype": "text/x-python",
   "name": "python",
   "nbconvert_exporter": "python",
   "pygments_lexer": "ipython3",
   "version": "3.12.0"
  }
 },
 "nbformat": 4,
 "nbformat_minor": 2
}
