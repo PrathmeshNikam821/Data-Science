{
 "cells": [
  {
   "cell_type": "code",
   "execution_count": 4,
   "id": "85892d49",
   "metadata": {},
   "outputs": [
    {
     "data": {
      "text/plain": [
       "'\\nWhat is NumPy?\\nNumPy is a Python library for fast numerical computations using arrays and matrices.\\n\\nKey Object:\\nndarray – a multi-dimensional array used for storing data.\\n\\nWhy Use It?\\n\\nFaster and more memory-efficient than Python lists\\n\\nEasy mathematical operations\\n\\nEssential for data science, ML, and scientific computing\\n\\nCommon Features:\\n\\nVectorized operations (no need for loops)\\n\\nBroadcasting (auto-adjusts shapes in operations)\\n\\nBuilt-in math functions: sum, mean, dot, etc.\\n\\n'"
      ]
     },
     "execution_count": 4,
     "metadata": {},
     "output_type": "execute_result"
    }
   ],
   "source": [
    "'''\n",
    "What is NumPy?\n",
    "NumPy is a Python library for fast numerical computations using arrays and matrices.\n",
    "\n",
    "Key Object:\n",
    "ndarray – a multi-dimensional array used for storing data.\n",
    "\n",
    "Why Use It?\n",
    "\n",
    "Faster and more memory-efficient than Python lists\n",
    "\n",
    "Easy mathematical operations\n",
    "\n",
    "Essential for data science, ML, and scientific computing\n",
    "\n",
    "Common Features:\n",
    "\n",
    "Vectorized operations (no need for loops)\n",
    "\n",
    "Broadcasting (auto-adjusts shapes in operations)\n",
    "\n",
    "Built-in math functions: sum, mean, dot, etc.\n",
    "\n",
    "'''"
   ]
  },
  {
   "cell_type": "code",
   "execution_count": 5,
   "id": "f55d08c1",
   "metadata": {},
   "outputs": [
    {
     "name": "stdout",
     "output_type": "stream",
     "text": [
      "Requirement already satisfied: numpy in c:\\users\\user\\anaconda3\\lib\\site-packages (1.26.4)\n"
     ]
    }
   ],
   "source": [
    "!pip install numpy"
   ]
  },
  {
   "cell_type": "code",
   "execution_count": 6,
   "id": "fee678d6",
   "metadata": {},
   "outputs": [
    {
     "name": "stdout",
     "output_type": "stream",
     "text": [
      "[1 2 3 4]\n",
      "<class 'numpy.ndarray'>\n",
      "(4,)\n"
     ]
    }
   ],
   "source": [
    "import numpy as np\n",
    "\n",
    "#create arrays using numpy\n",
    "#1d array\n",
    "\n",
    "arr1 = np.array([1,2,3,4])\n",
    "print(arr1)\n",
    "print(type(arr1))\n",
    "print(arr1.shape)"
   ]
  },
  {
   "cell_type": "code",
   "execution_count": 7,
   "id": "7078e0a3",
   "metadata": {},
   "outputs": [
    {
     "data": {
      "text/plain": [
       "array([[1, 2, 3, 4],\n",
       "       [5, 6, 7, 8]])"
      ]
     },
     "execution_count": 7,
     "metadata": {},
     "output_type": "execute_result"
    }
   ],
   "source": [
    "#1d array\n",
    "arr2 = np.array([1,2,3,4,5,6,7,8])\n",
    "arr2.reshape(2,4) # 2 row , 4 colns "
   ]
  },
  {
   "cell_type": "code",
   "execution_count": 8,
   "id": "699b896b",
   "metadata": {},
   "outputs": [
    {
     "name": "stdout",
     "output_type": "stream",
     "text": [
      "(3, 3)\n"
     ]
    }
   ],
   "source": [
    "#2d array \n",
    "arr = np.array([[1,2,3],[4,5,6],[7,8,9]])\n",
    "print(arr.shape)"
   ]
  },
  {
   "cell_type": "code",
   "execution_count": 9,
   "id": "8d0ba688",
   "metadata": {},
   "outputs": [
    {
     "data": {
      "text/plain": [
       "array([0, 2, 4, 6, 8])"
      ]
     },
     "execution_count": 9,
     "metadata": {},
     "output_type": "execute_result"
    }
   ],
   "source": [
    "np.arange(0,10,2)"
   ]
  },
  {
   "cell_type": "code",
   "execution_count": 10,
   "id": "6cf585bf",
   "metadata": {},
   "outputs": [],
   "source": [
    "num = np.arange(0,10).reshape(5,2)"
   ]
  },
  {
   "cell_type": "code",
   "execution_count": 11,
   "id": "f1fcff70",
   "metadata": {},
   "outputs": [
    {
     "data": {
      "text/plain": [
       "array([[0, 1],\n",
       "       [2, 3],\n",
       "       [4, 5],\n",
       "       [6, 7],\n",
       "       [8, 9]])"
      ]
     },
     "execution_count": 11,
     "metadata": {},
     "output_type": "execute_result"
    }
   ],
   "source": [
    "num"
   ]
  },
  {
   "cell_type": "code",
   "execution_count": 12,
   "id": "e44c2c5b",
   "metadata": {},
   "outputs": [
    {
     "data": {
      "text/plain": [
       "array([[1., 1., 1., 1.],\n",
       "       [1., 1., 1., 1.],\n",
       "       [1., 1., 1., 1.]])"
      ]
     },
     "execution_count": 12,
     "metadata": {},
     "output_type": "execute_result"
    }
   ],
   "source": [
    "#create array using ones --> all one in array\n",
    "\n",
    "np.ones((3,4))"
   ]
  },
  {
   "cell_type": "code",
   "execution_count": 13,
   "id": "16c9af32",
   "metadata": {},
   "outputs": [
    {
     "data": {
      "text/plain": [
       "array([[1., 0., 0.],\n",
       "       [0., 1., 0.],\n",
       "       [0., 0., 1.]])"
      ]
     },
     "execution_count": 13,
     "metadata": {},
     "output_type": "execute_result"
    }
   ],
   "source": [
    "#identity matrix \n",
    "np.eye(3)"
   ]
  },
  {
   "cell_type": "markdown",
   "id": "8d123e39",
   "metadata": {},
   "source": [
    "##### Numpy Vectorized operations "
   ]
  },
  {
   "cell_type": "code",
   "execution_count": 14,
   "id": "0f3a8ba7",
   "metadata": {},
   "outputs": [
    {
     "name": "stdout",
     "output_type": "stream",
     "text": [
      "[ 7  9 11 13 15]\n"
     ]
    }
   ],
   "source": [
    "arr1 = np.array([1,2,3,4,5])\n",
    "arr2 = np.array([6,7,8,9,10])\n",
    "\n",
    "#addition \n",
    "\n",
    "print(arr1+arr2)"
   ]
  },
  {
   "cell_type": "code",
   "execution_count": 15,
   "id": "7c6fc3a2",
   "metadata": {},
   "outputs": [
    {
     "name": "stdout",
     "output_type": "stream",
     "text": [
      "[-5 -5 -5 -5 -5]\n",
      "[ 6 14 24 36 50]\n",
      "[0.16666667 0.28571429 0.375      0.44444444 0.5       ]\n"
     ]
    }
   ],
   "source": [
    "#subtraction \n",
    "print(arr1-arr2)\n",
    "\n",
    "# multiplication\n",
    "print(arr1*arr2)\n",
    "\n",
    "#division \n",
    "print(arr1/arr2)"
   ]
  },
  {
   "cell_type": "code",
   "execution_count": 16,
   "id": "e3d1a56e",
   "metadata": {},
   "outputs": [
    {
     "name": "stdout",
     "output_type": "stream",
     "text": [
      "[1.41421356 1.73205081 2.         2.23606798 2.44948974]\n",
      "[  7.3890561   20.08553692  54.59815003 148.4131591  403.42879349]\n",
      "[ 0.90929743  0.14112001 -0.7568025  -0.95892427 -0.2794155 ]\n",
      "[0.69314718 1.09861229 1.38629436 1.60943791 1.79175947]\n"
     ]
    }
   ],
   "source": [
    "#universal function \n",
    "arr = np.array([2,3,4,5,6])\n",
    "#sq root \n",
    "print(np.sqrt(arr))\n",
    "#exponential \n",
    "print(np.exp(arr))\n",
    "\n",
    "#sine \n",
    "print(np.sin(arr))\n",
    "\n",
    "#natural log \n",
    "print(np.log(arr))"
   ]
  },
  {
   "cell_type": "markdown",
   "id": "fec4a58b",
   "metadata": {},
   "source": [
    "##### array slicing and indexing \n"
   ]
  },
  {
   "cell_type": "code",
   "execution_count": 17,
   "id": "6196a948",
   "metadata": {},
   "outputs": [
    {
     "name": "stdout",
     "output_type": "stream",
     "text": [
      "Array : \n",
      " [[ 1  2  3  4]\n",
      " [ 5  6  7  8]\n",
      " [ 9 10 11 12]]\n"
     ]
    }
   ],
   "source": [
    "arr = np.array(([1,2,3,4],[5,6,7,8],[9,10,11,12]))\n",
    "\n",
    "print(\"Array : \\n\" , arr)\n"
   ]
  },
  {
   "cell_type": "code",
   "execution_count": 18,
   "id": "2986e6f5",
   "metadata": {},
   "outputs": [
    {
     "name": "stdout",
     "output_type": "stream",
     "text": [
      "[1 2 3 4]\n",
      "1\n",
      "7\n"
     ]
    }
   ],
   "source": [
    "print(arr[0])\n",
    "print(arr[0][0])\n",
    "print(arr[1][2])"
   ]
  },
  {
   "cell_type": "code",
   "execution_count": 19,
   "id": "c96ffdd0",
   "metadata": {},
   "outputs": [
    {
     "data": {
      "text/plain": [
       "array([[ 5,  6,  7,  8],\n",
       "       [ 9, 10, 11, 12]])"
      ]
     },
     "execution_count": 19,
     "metadata": {},
     "output_type": "execute_result"
    }
   ],
   "source": [
    "arr[1:]"
   ]
  },
  {
   "cell_type": "code",
   "execution_count": 20,
   "id": "e134e42c",
   "metadata": {},
   "outputs": [
    {
     "data": {
      "text/plain": [
       "array([[ 6,  7,  8],\n",
       "       [10, 11, 12]])"
      ]
     },
     "execution_count": 20,
     "metadata": {},
     "output_type": "execute_result"
    }
   ],
   "source": [
    "arr[1:,1:]"
   ]
  },
  {
   "cell_type": "code",
   "execution_count": 21,
   "id": "c5df385e",
   "metadata": {},
   "outputs": [
    {
     "name": "stdout",
     "output_type": "stream",
     "text": [
      "[[1 2 3 4]\n",
      " [5 6 7 8]]\n",
      "[[3 4]\n",
      " [7 8]]\n"
     ]
    }
   ],
   "source": [
    "print(arr[0:2])\n",
    "print(arr[0:2 , 2:])"
   ]
  },
  {
   "cell_type": "markdown",
   "id": "8a1ac4de",
   "metadata": {},
   "source": [
    "##### Modify array elements\n"
   ]
  },
  {
   "cell_type": "code",
   "execution_count": 22,
   "id": "96c82aec",
   "metadata": {},
   "outputs": [
    {
     "name": "stdout",
     "output_type": "stream",
     "text": [
      "[[100   2   3   4]\n",
      " [  5   6   7   8]\n",
      " [  9  10  11  12]]\n"
     ]
    }
   ],
   "source": [
    "arr[0][0] = 100\n",
    "print(arr)"
   ]
  },
  {
   "cell_type": "code",
   "execution_count": 23,
   "id": "689d47aa",
   "metadata": {},
   "outputs": [
    {
     "name": "stdout",
     "output_type": "stream",
     "text": [
      "[[100   2   3   4]\n",
      " [100 100 100 100]\n",
      " [100 100 100 100]]\n"
     ]
    }
   ],
   "source": [
    "arr[1:] = 100\n",
    "print(arr)"
   ]
  },
  {
   "cell_type": "markdown",
   "id": "3a941126",
   "metadata": {},
   "source": [
    "##### statistical concepts --> Normalization"
   ]
  },
  {
   "cell_type": "code",
   "execution_count": 24,
   "id": "e9418961",
   "metadata": {},
   "outputs": [
    {
     "name": "stdout",
     "output_type": "stream",
     "text": [
      "Mean : 3.0 and Standard deviation : 1.4142135623730951\n"
     ]
    }
   ],
   "source": [
    "# to have a mean of 0 and stdard deviation of 1 \n",
    "\n",
    "data = np.array([1,2,3,4,5])\n",
    "\n",
    "#calcuate mean and standard deviation \n",
    "mean = np.mean(data)\n",
    "std_dev = np.std(data)\n",
    "print(f\"Mean : {mean} and Standard deviation : {std_dev}\")"
   ]
  },
  {
   "cell_type": "code",
   "execution_count": 25,
   "id": "ba6953f2",
   "metadata": {},
   "outputs": [
    {
     "name": "stdout",
     "output_type": "stream",
     "text": [
      "Normalized data: [-1.41421356 -0.70710678  0.          0.70710678  1.41421356]\n"
     ]
    }
   ],
   "source": [
    "#normalized data \n",
    "normalized_data = (data-mean)/std_dev\n",
    "print(f\"Normalized data: {normalized_data}\")"
   ]
  },
  {
   "cell_type": "code",
   "execution_count": 27,
   "id": "9c1f0a23",
   "metadata": {},
   "outputs": [
    {
     "name": "stdout",
     "output_type": "stream",
     "text": [
      "Variance : 2.0\n",
      "Median: 3.0\n"
     ]
    }
   ],
   "source": [
    "var = np.var(data)\n",
    "print(f\"Variance : {var}\")\n",
    "\n",
    "median = np.median(data)\n",
    "print(f\"Median: {median}\")"
   ]
  },
  {
   "cell_type": "markdown",
   "id": "cd1818e8",
   "metadata": {},
   "source": [
    "##### logical operations "
   ]
  },
  {
   "cell_type": "code",
   "execution_count": 40,
   "id": "4d618497",
   "metadata": {},
   "outputs": [
    {
     "name": "stdout",
     "output_type": "stream",
     "text": [
      "[False False False False  True  True  True  True  True  True]\n",
      "[6 7 8]\n"
     ]
    }
   ],
   "source": [
    "data = np.array([1,2,3,4,5,6,7,8,9,10])\n",
    "print(data>=5)\n",
    "print(data [(data>5) & (data<=8)])"
   ]
  },
  {
   "cell_type": "code",
   "execution_count": null,
   "id": "5bdb504f",
   "metadata": {},
   "outputs": [],
   "source": []
  }
 ],
 "metadata": {
  "kernelspec": {
   "display_name": "base",
   "language": "python",
   "name": "python3"
  },
  "language_info": {
   "codemirror_mode": {
    "name": "ipython",
    "version": 3
   },
   "file_extension": ".py",
   "mimetype": "text/x-python",
   "name": "python",
   "nbconvert_exporter": "python",
   "pygments_lexer": "ipython3",
   "version": "3.12.7"
  }
 },
 "nbformat": 4,
 "nbformat_minor": 5
}
