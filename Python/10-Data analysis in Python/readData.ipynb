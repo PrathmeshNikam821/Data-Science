{
 "cells": [
  {
   "cell_type": "markdown",
   "id": "1975c105",
   "metadata": {},
   "source": [
    "#### Reading data from different sources "
   ]
  },
  {
   "cell_type": "code",
   "execution_count": 2,
   "id": "74305758",
   "metadata": {},
   "outputs": [
    {
     "data": {
      "text/html": [
       "<div>\n",
       "<style scoped>\n",
       "    .dataframe tbody tr th:only-of-type {\n",
       "        vertical-align: middle;\n",
       "    }\n",
       "\n",
       "    .dataframe tbody tr th {\n",
       "        vertical-align: top;\n",
       "    }\n",
       "\n",
       "    .dataframe thead th {\n",
       "        text-align: right;\n",
       "    }\n",
       "</style>\n",
       "<table border=\"1\" class=\"dataframe\">\n",
       "  <thead>\n",
       "    <tr style=\"text-align: right;\">\n",
       "      <th></th>\n",
       "      <th>name</th>\n",
       "      <th>age</th>\n",
       "      <th>city</th>\n",
       "      <th>email</th>\n",
       "      <th>job</th>\n",
       "    </tr>\n",
       "  </thead>\n",
       "  <tbody>\n",
       "    <tr>\n",
       "      <th>0</th>\n",
       "      <td>John</td>\n",
       "      <td>30</td>\n",
       "      <td>New York</td>\n",
       "      <td>james@gmail.com</td>\n",
       "      <td>{'title': 'Software Engineer', 'salary': 80000}</td>\n",
       "    </tr>\n",
       "  </tbody>\n",
       "</table>\n",
       "</div>"
      ],
      "text/plain": [
       "   name  age      city            email  \\\n",
       "0  John   30  New York  james@gmail.com   \n",
       "\n",
       "                                               job  \n",
       "0  {'title': 'Software Engineer', 'salary': 80000}  "
      ]
     },
     "execution_count": 2,
     "metadata": {},
     "output_type": "execute_result"
    }
   ],
   "source": [
    "import pandas as pd \n",
    "\n",
    "from io import StringIO\n",
    "\n",
    "#creating json data \n",
    "\n",
    "Data = '{\"name\": \"John\", \"age\": 30, \"city\": \"New York\", \"email\": \"james@gmail.com\", \"job\": [{\"title\": \"Software Engineer\", \"salary\": 80000}]}'\n",
    "\n",
    "\n",
    "#converting json data to pandas datafram\n",
    "pd.read_json(StringIO(Data))"
   ]
  },
  {
   "cell_type": "code",
   "execution_count": 5,
   "id": "fa7b0bd6",
   "metadata": {},
   "outputs": [],
   "source": [
    "url = 'https://www.fdic.gov/bank-failures/failed-bank-list'\n",
    "df = pd.read_html(url)"
   ]
  },
  {
   "cell_type": "code",
   "execution_count": 6,
   "id": "3f9c56c5",
   "metadata": {},
   "outputs": [
    {
     "data": {
      "text/plain": [
       "[                               Bank Name               City         State  \\\n",
       " 0                   Pulaski Savings Bank            Chicago      Illinois   \n",
       " 1     The First National Bank of Lindsay            Lindsay      Oklahoma   \n",
       " 2  Republic First Bank dba Republic Bank       Philadelphia  Pennsylvania   \n",
       " 3                          Citizens Bank           Sac City          Iowa   \n",
       " 4               Heartland Tri-State Bank            Elkhart        Kansas   \n",
       " 5                    First Republic Bank      San Francisco    California   \n",
       " 6                         Signature Bank           New York      New York   \n",
       " 7                    Silicon Valley Bank        Santa Clara    California   \n",
       " 8                      Almena State Bank             Almena        Kansas   \n",
       " 9             First City Bank of Florida  Fort Walton Beach       Florida   \n",
       " \n",
       "     Cert                Acquiring Institution      Closing Date  \\\n",
       " 0  28611                      Millennium Bank  January 17, 2025   \n",
       " 1   4134   First Bank & Trust Co., Duncan, OK  October 18, 2024   \n",
       " 2  27332    Fulton Bank, National Association    April 26, 2024   \n",
       " 3   8758            Iowa Trust & Savings Bank  November 3, 2023   \n",
       " 4  25851               Dream First Bank, N.A.     July 28, 2023   \n",
       " 5  59017            JPMorgan Chase Bank, N.A.       May 1, 2023   \n",
       " 6  57053                  Flagstar Bank, N.A.    March 12, 2023   \n",
       " 7  24735  First Citizens Bank & Trust Company    March 10, 2023   \n",
       " 8  15426                          Equity Bank  October 23, 2020   \n",
       " 9  16748            United Fidelity Bank, fsb  October 16, 2020   \n",
       " \n",
       "    Fund  Sort ascending  \n",
       " 0                 10548  \n",
       " 1                 10547  \n",
       " 2                 10546  \n",
       " 3                 10545  \n",
       " 4                 10544  \n",
       " 5                 10543  \n",
       " 6                 10540  \n",
       " 7                 10539  \n",
       " 8                 10538  \n",
       " 9                 10537  ]"
      ]
     },
     "execution_count": 6,
     "metadata": {},
     "output_type": "execute_result"
    }
   ],
   "source": [
    "df"
   ]
  },
  {
   "cell_type": "code",
   "execution_count": 7,
   "id": "265555ab",
   "metadata": {},
   "outputs": [],
   "source": [
    "df_excel = pd.read_excel('data.xlsx')\n"
   ]
  },
  {
   "cell_type": "code",
   "execution_count": 8,
   "id": "d21640ca",
   "metadata": {},
   "outputs": [
    {
     "data": {
      "text/html": [
       "<div>\n",
       "<style scoped>\n",
       "    .dataframe tbody tr th:only-of-type {\n",
       "        vertical-align: middle;\n",
       "    }\n",
       "\n",
       "    .dataframe tbody tr th {\n",
       "        vertical-align: top;\n",
       "    }\n",
       "\n",
       "    .dataframe thead th {\n",
       "        text-align: right;\n",
       "    }\n",
       "</style>\n",
       "<table border=\"1\" class=\"dataframe\">\n",
       "  <thead>\n",
       "    <tr style=\"text-align: right;\">\n",
       "      <th></th>\n",
       "      <th>Name</th>\n",
       "      <th>Age</th>\n",
       "    </tr>\n",
       "  </thead>\n",
       "  <tbody>\n",
       "    <tr>\n",
       "      <th>0</th>\n",
       "      <td>Krish</td>\n",
       "      <td>32</td>\n",
       "    </tr>\n",
       "    <tr>\n",
       "      <th>1</th>\n",
       "      <td>Jack</td>\n",
       "      <td>34</td>\n",
       "    </tr>\n",
       "    <tr>\n",
       "      <th>2</th>\n",
       "      <td>John</td>\n",
       "      <td>31</td>\n",
       "    </tr>\n",
       "  </tbody>\n",
       "</table>\n",
       "</div>"
      ],
      "text/plain": [
       "    Name  Age\n",
       "0  Krish   32\n",
       "1   Jack   34\n",
       "2   John   31"
      ]
     },
     "execution_count": 8,
     "metadata": {},
     "output_type": "execute_result"
    }
   ],
   "source": [
    "df_excel"
   ]
  },
  {
   "cell_type": "code",
   "execution_count": 12,
   "id": "a2a4da4d",
   "metadata": {},
   "outputs": [],
   "source": [
    "df_excel.to_pickle('df_excel')"
   ]
  },
  {
   "cell_type": "code",
   "execution_count": 13,
   "id": "9bfc0637",
   "metadata": {},
   "outputs": [
    {
     "data": {
      "text/html": [
       "<div>\n",
       "<style scoped>\n",
       "    .dataframe tbody tr th:only-of-type {\n",
       "        vertical-align: middle;\n",
       "    }\n",
       "\n",
       "    .dataframe tbody tr th {\n",
       "        vertical-align: top;\n",
       "    }\n",
       "\n",
       "    .dataframe thead th {\n",
       "        text-align: right;\n",
       "    }\n",
       "</style>\n",
       "<table border=\"1\" class=\"dataframe\">\n",
       "  <thead>\n",
       "    <tr style=\"text-align: right;\">\n",
       "      <th></th>\n",
       "      <th>Name</th>\n",
       "      <th>Age</th>\n",
       "    </tr>\n",
       "  </thead>\n",
       "  <tbody>\n",
       "    <tr>\n",
       "      <th>0</th>\n",
       "      <td>Krish</td>\n",
       "      <td>32</td>\n",
       "    </tr>\n",
       "    <tr>\n",
       "      <th>1</th>\n",
       "      <td>Jack</td>\n",
       "      <td>34</td>\n",
       "    </tr>\n",
       "    <tr>\n",
       "      <th>2</th>\n",
       "      <td>John</td>\n",
       "      <td>31</td>\n",
       "    </tr>\n",
       "  </tbody>\n",
       "</table>\n",
       "</div>"
      ],
      "text/plain": [
       "    Name  Age\n",
       "0  Krish   32\n",
       "1   Jack   34\n",
       "2   John   31"
      ]
     },
     "execution_count": 13,
     "metadata": {},
     "output_type": "execute_result"
    }
   ],
   "source": [
    "pd.read_pickle('df_excel')"
   ]
  },
  {
   "cell_type": "code",
   "execution_count": null,
   "id": "561c737c",
   "metadata": {},
   "outputs": [],
   "source": []
  }
 ],
 "metadata": {
  "kernelspec": {
   "display_name": "base",
   "language": "python",
   "name": "python3"
  },
  "language_info": {
   "codemirror_mode": {
    "name": "ipython",
    "version": 3
   },
   "file_extension": ".py",
   "mimetype": "text/x-python",
   "name": "python",
   "nbconvert_exporter": "python",
   "pygments_lexer": "ipython3",
   "version": "3.12.7"
  }
 },
 "nbformat": 4,
 "nbformat_minor": 5
}
